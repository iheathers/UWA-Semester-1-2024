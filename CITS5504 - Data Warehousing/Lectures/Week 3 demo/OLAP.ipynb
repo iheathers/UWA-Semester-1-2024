{
 "cells": [
  {
   "cell_type": "markdown",
   "id": "123401e7-e929-4df9-8ca9-159a61051f7f",
   "metadata": {},
   "source": [
    "## Run the code below and finish the questions."
   ]
  },
  {
   "cell_type": "code",
   "execution_count": null,
   "id": "5d8c8ba6-727b-4b09-be7d-1c82066351ee",
   "metadata": {},
   "outputs": [
    {
     "ename": "",
     "evalue": "",
     "output_type": "error",
     "traceback": [
      "\u001b[1;31mRunning cells with '/usr/bin/python3' requires the ipykernel package.\n",
      "\u001b[1;31mRun the following command to install 'ipykernel' into the Python environment. \n",
      "\u001b[1;31mCommand: '/usr/bin/python3 -m pip install ipykernel -U --user --force-reinstall'"
     ]
    }
   ],
   "source": [
    "import atoti as tt"
   ]
  },
  {
   "cell_type": "code",
   "execution_count": null,
   "id": "a7a13812-612f-48a2-8ac1-a42f9f1222dc",
   "metadata": {},
   "outputs": [],
   "source": [
    "session = tt.Session()"
   ]
  },
  {
   "cell_type": "code",
   "execution_count": null,
   "id": "9341f29e-b680-4a82-adf2-37f71ade9b9f",
   "metadata": {},
   "outputs": [],
   "source": [
    "# load fact and dimension tables\n",
    "sales_table = session.read_csv(\"data/sales.csv\", keys=[\"Sale ID\"])\n",
    "products_table = session.read_csv(\"data/products.csv\", keys=[\"Product\"])\n",
    "shops_table = session.read_csv(\"data/shops.csv\", keys=[\"Shop ID\"])"
   ]
  },
  {
   "cell_type": "code",
   "execution_count": null,
   "id": "1a290b0c-397b-4e16-9c1c-e1450da86f3e",
   "metadata": {},
   "outputs": [
    {
     "data": {
      "text/html": [
       "<div>\n",
       "<style scoped>\n",
       "    .dataframe tbody tr th:only-of-type {\n",
       "        vertical-align: middle;\n",
       "    }\n",
       "\n",
       "    .dataframe tbody tr th {\n",
       "        vertical-align: top;\n",
       "    }\n",
       "\n",
       "    .dataframe thead th {\n",
       "        text-align: right;\n",
       "    }\n",
       "</style>\n",
       "<table border=\"1\" class=\"dataframe\">\n",
       "  <thead>\n",
       "    <tr style=\"text-align: right;\">\n",
       "      <th></th>\n",
       "      <th>Category</th>\n",
       "      <th>Sub category</th>\n",
       "      <th>Size</th>\n",
       "      <th>Purchase price</th>\n",
       "      <th>Color</th>\n",
       "      <th>Brand</th>\n",
       "    </tr>\n",
       "    <tr>\n",
       "      <th>Product</th>\n",
       "      <th></th>\n",
       "      <th></th>\n",
       "      <th></th>\n",
       "      <th></th>\n",
       "      <th></th>\n",
       "      <th></th>\n",
       "    </tr>\n",
       "  </thead>\n",
       "  <tbody>\n",
       "    <tr>\n",
       "      <th>TSH_10</th>\n",
       "      <td>Cloth</td>\n",
       "      <td>T-shirt</td>\n",
       "      <td>L</td>\n",
       "      <td>20.0</td>\n",
       "      <td>black</td>\n",
       "      <td>Over</td>\n",
       "    </tr>\n",
       "    <tr>\n",
       "      <th>TAB_22</th>\n",
       "      <td>Furniture</td>\n",
       "      <td>Table</td>\n",
       "      <td>2m40</td>\n",
       "      <td>280.0</td>\n",
       "      <td>blue</td>\n",
       "      <td>Basic</td>\n",
       "    </tr>\n",
       "    <tr>\n",
       "      <th>HOO_34</th>\n",
       "      <td>Cloth</td>\n",
       "      <td>Hoodie</td>\n",
       "      <td>M</td>\n",
       "      <td>38.0</td>\n",
       "      <td>brown</td>\n",
       "      <td>Over</td>\n",
       "    </tr>\n",
       "    <tr>\n",
       "      <th>BED_46</th>\n",
       "      <td>Furniture</td>\n",
       "      <td>Bed</td>\n",
       "      <td>Double</td>\n",
       "      <td>252.0</td>\n",
       "      <td>white</td>\n",
       "      <td>Basic</td>\n",
       "    </tr>\n",
       "    <tr>\n",
       "      <th>SHO_58</th>\n",
       "      <td>Cloth</td>\n",
       "      <td>Shoes</td>\n",
       "      <td>8</td>\n",
       "      <td>42.0</td>\n",
       "      <td>red</td>\n",
       "      <td>Over</td>\n",
       "    </tr>\n",
       "  </tbody>\n",
       "</table>\n",
       "</div>"
      ],
      "text/plain": [
       "          Category Sub category    Size  Purchase price  Color  Brand\n",
       "Product                                                              \n",
       "TSH_10       Cloth      T-shirt       L            20.0  black   Over\n",
       "TAB_22   Furniture        Table    2m40           280.0   blue  Basic\n",
       "HOO_34       Cloth       Hoodie       M            38.0  brown   Over\n",
       "BED_46   Furniture          Bed  Double           252.0  white  Basic\n",
       "SHO_58       Cloth        Shoes       8            42.0    red   Over"
      ]
     },
     "execution_count": 4,
     "metadata": {},
     "output_type": "execute_result"
    }
   ],
   "source": [
    "# view the product table details\n",
    "products_table.head()"
   ]
  },
  {
   "cell_type": "code",
   "execution_count": null,
   "id": "2700047b-fc9f-45a0-95f2-a74a2b3bf7bd",
   "metadata": {},
   "outputs": [
    {
     "data": {
      "text/html": [
       "<div>\n",
       "<style scoped>\n",
       "    .dataframe tbody tr th:only-of-type {\n",
       "        vertical-align: middle;\n",
       "    }\n",
       "\n",
       "    .dataframe tbody tr th {\n",
       "        vertical-align: top;\n",
       "    }\n",
       "\n",
       "    .dataframe thead th {\n",
       "        text-align: right;\n",
       "    }\n",
       "</style>\n",
       "<table border=\"1\" class=\"dataframe\">\n",
       "  <thead>\n",
       "    <tr style=\"text-align: right;\">\n",
       "      <th></th>\n",
       "      <th>City</th>\n",
       "      <th>State or region</th>\n",
       "      <th>Country</th>\n",
       "      <th>Shop size</th>\n",
       "    </tr>\n",
       "    <tr>\n",
       "      <th>Shop ID</th>\n",
       "      <th></th>\n",
       "      <th></th>\n",
       "      <th></th>\n",
       "      <th></th>\n",
       "    </tr>\n",
       "  </thead>\n",
       "  <tbody>\n",
       "    <tr>\n",
       "      <th>shop_10</th>\n",
       "      <td>Nice</td>\n",
       "      <td>Provence-Alpes-Côte d'Azur</td>\n",
       "      <td>France</td>\n",
       "      <td>medium</td>\n",
       "    </tr>\n",
       "    <tr>\n",
       "      <th>shop_22</th>\n",
       "      <td>Marseille</td>\n",
       "      <td>Provence-Alpes-Côte d'Azur</td>\n",
       "      <td>France</td>\n",
       "      <td>small</td>\n",
       "    </tr>\n",
       "    <tr>\n",
       "      <th>shop_34</th>\n",
       "      <td>Paris</td>\n",
       "      <td>Île-de-France</td>\n",
       "      <td>France</td>\n",
       "      <td>small</td>\n",
       "    </tr>\n",
       "    <tr>\n",
       "      <th>shop_11</th>\n",
       "      <td>Lyon</td>\n",
       "      <td>Auvergne-Rhône-Alpes</td>\n",
       "      <td>France</td>\n",
       "      <td>medium</td>\n",
       "    </tr>\n",
       "    <tr>\n",
       "      <th>shop_23</th>\n",
       "      <td>Nice</td>\n",
       "      <td>Provence-Alpes-Côte d'Azur</td>\n",
       "      <td>France</td>\n",
       "      <td>small</td>\n",
       "    </tr>\n",
       "  </tbody>\n",
       "</table>\n",
       "</div>"
      ],
      "text/plain": [
       "              City             State or region Country Shop size\n",
       "Shop ID                                                         \n",
       "shop_10       Nice  Provence-Alpes-Côte d'Azur  France    medium\n",
       "shop_22  Marseille  Provence-Alpes-Côte d'Azur  France     small\n",
       "shop_34      Paris               Île-de-France  France     small\n",
       "shop_11       Lyon        Auvergne-Rhône-Alpes  France    medium\n",
       "shop_23       Nice  Provence-Alpes-Côte d'Azur  France     small"
      ]
     },
     "execution_count": 5,
     "metadata": {},
     "output_type": "execute_result"
    }
   ],
   "source": [
    "# view the shop table details\n",
    "shops_table.head()"
   ]
  },
  {
   "cell_type": "code",
   "execution_count": null,
   "id": "bcd295de-fccf-4bb6-9c40-34e631c65a74",
   "metadata": {},
   "outputs": [
    {
     "data": {
      "text/html": [
       "<div>\n",
       "<style scoped>\n",
       "    .dataframe tbody tr th:only-of-type {\n",
       "        vertical-align: middle;\n",
       "    }\n",
       "\n",
       "    .dataframe tbody tr th {\n",
       "        vertical-align: top;\n",
       "    }\n",
       "\n",
       "    .dataframe thead th {\n",
       "        text-align: right;\n",
       "    }\n",
       "</style>\n",
       "<table border=\"1\" class=\"dataframe\">\n",
       "  <thead>\n",
       "    <tr style=\"text-align: right;\">\n",
       "      <th></th>\n",
       "      <th>Date</th>\n",
       "      <th>Shop</th>\n",
       "      <th>Product</th>\n",
       "      <th>Quantity</th>\n",
       "      <th>Unit price</th>\n",
       "    </tr>\n",
       "    <tr>\n",
       "      <th>Sale ID</th>\n",
       "      <th></th>\n",
       "      <th></th>\n",
       "      <th></th>\n",
       "      <th></th>\n",
       "      <th></th>\n",
       "    </tr>\n",
       "  </thead>\n",
       "  <tbody>\n",
       "    <tr>\n",
       "      <th>S000001427</th>\n",
       "      <td>2021-01-18</td>\n",
       "      <td>shop_27</td>\n",
       "      <td>BED_24</td>\n",
       "      <td>1.0</td>\n",
       "      <td>150.0</td>\n",
       "    </tr>\n",
       "    <tr>\n",
       "      <th>S000000001</th>\n",
       "      <td>2021-02-03</td>\n",
       "      <td>shop_1</td>\n",
       "      <td>TAB_1</td>\n",
       "      <td>1.0</td>\n",
       "      <td>300.0</td>\n",
       "    </tr>\n",
       "    <tr>\n",
       "      <th>S000001434</th>\n",
       "      <td>2021-01-11</td>\n",
       "      <td>shop_34</td>\n",
       "      <td>TSH_31</td>\n",
       "      <td>3.0</td>\n",
       "      <td>24.0</td>\n",
       "    </tr>\n",
       "    <tr>\n",
       "      <th>S000000009</th>\n",
       "      <td>2021-01-26</td>\n",
       "      <td>shop_9</td>\n",
       "      <td>TSH_9</td>\n",
       "      <td>1.0</td>\n",
       "      <td>22.0</td>\n",
       "    </tr>\n",
       "    <tr>\n",
       "      <th>S000002861</th>\n",
       "      <td>2021-01-24</td>\n",
       "      <td>shop_21</td>\n",
       "      <td>HOO_55</td>\n",
       "      <td>1.0</td>\n",
       "      <td>48.0</td>\n",
       "    </tr>\n",
       "  </tbody>\n",
       "</table>\n",
       "</div>"
      ],
      "text/plain": [
       "                 Date     Shop Product  Quantity  Unit price\n",
       "Sale ID                                                     \n",
       "S000001427 2021-01-18  shop_27  BED_24       1.0       150.0\n",
       "S000000001 2021-02-03   shop_1   TAB_1       1.0       300.0\n",
       "S000001434 2021-01-11  shop_34  TSH_31       3.0        24.0\n",
       "S000000009 2021-01-26   shop_9   TSH_9       1.0        22.0\n",
       "S000002861 2021-01-24  shop_21  HOO_55       1.0        48.0"
      ]
     },
     "execution_count": 6,
     "metadata": {},
     "output_type": "execute_result"
    }
   ],
   "source": [
    "# view the sale table details\n",
    "sales_table.head()"
   ]
  },
  {
   "cell_type": "code",
   "execution_count": null,
   "id": "9017344d-88bc-423d-b65b-124ce19c875b",
   "metadata": {},
   "outputs": [
    {
     "data": {
      "image/svg+xml": [
       "<svg xmlns=\"http://www.w3.org/2000/svg\" xmlns:xlink=\"http://www.w3.org/1999/xlink\" width=\"544px\" height=\"368px\" viewBox=\"0.00 0.00 544.25 368.00\">\n",
       "<g id=\"graph0\" class=\"graph\" transform=\"scale(1.0 1.0) rotate(0) translate(4 364)\">\n",
       "<title>Datastore schema</title>\n",
       "<polygon fill=\"white\" stroke=\"none\" points=\"-4,4 -4,-364 540.25,-364 540.25,4 -4,4\"/>\n",
       "<!-- Products -->\n",
       "<g id=\"node1\" class=\"node\">\n",
       "<title>Products</title>\n",
       "<text text-anchor=\"start\" x=\"407\" y=\"-338.65\" font-family=\"-apple-system, BlinkMacSystemFont, 'Segoe UI', Helvetica, Arial, sans-serif, 'Apple Color Emoji', 'Segoe UI Emoji', 'Segoe UI Symbol'\" font-weight=\"bold\" font-size=\"13.00\">Products</text>\n",
       "<polygon fill=\"#f5f5f5\" stroke=\"none\" points=\"345.25,-309 345.25,-332 377.25,-332 377.25,-309 345.25,-309\"/>\n",
       "<text text-anchor=\"start\" x=\"350\" y=\"-315.65\" font-family=\"-apple-system, BlinkMacSystemFont, 'Segoe UI', Helvetica, Arial, sans-serif, 'Apple Color Emoji', 'Segoe UI Emoji', 'Segoe UI Symbol'\" font-weight=\"bold\" font-size=\"13.00\">key</text>\n",
       "<polygon fill=\"#f5f5f5\" stroke=\"none\" points=\"377.25,-309 377.25,-332 477.25,-332 477.25,-309 377.25,-309\"/>\n",
       "<text text-anchor=\"start\" x=\"382.25\" y=\"-314.65\" font-family=\"-apple-system, BlinkMacSystemFont, 'Segoe UI', Helvetica, Arial, sans-serif, 'Apple Color Emoji', 'Segoe UI Emoji', 'Segoe UI Symbol'\" font-size=\"13.00\">Product</text>\n",
       "<polygon fill=\"#f5f5f5\" stroke=\"none\" points=\"477.25,-309 477.25,-332 527.25,-332 527.25,-309 477.25,-309\"/>\n",
       "<text text-anchor=\"start\" x=\"489.25\" y=\"-315.65\" font-family=\"-apple-system, BlinkMacSystemFont, 'Segoe UI', Helvetica, Arial, sans-serif, 'Apple Color Emoji', 'Segoe UI Emoji', 'Segoe UI Symbol'\" font-style=\"italic\" font-size=\"13.00\">string</text>\n",
       "<polygon fill=\"#ffffff\" stroke=\"none\" points=\"345.25,-286 345.25,-309 377.25,-309 377.25,-286 345.25,-286\"/>\n",
       "<polygon fill=\"#ffffff\" stroke=\"none\" points=\"377.25,-286 377.25,-309 477.25,-309 477.25,-286 377.25,-286\"/>\n",
       "<text text-anchor=\"start\" x=\"382.25\" y=\"-291.65\" font-family=\"-apple-system, BlinkMacSystemFont, 'Segoe UI', Helvetica, Arial, sans-serif, 'Apple Color Emoji', 'Segoe UI Emoji', 'Segoe UI Symbol'\" font-size=\"13.00\">Category</text>\n",
       "<polygon fill=\"#ffffff\" stroke=\"none\" points=\"477.25,-286 477.25,-309 527.25,-309 527.25,-286 477.25,-286\"/>\n",
       "<text text-anchor=\"start\" x=\"489.25\" y=\"-292.65\" font-family=\"-apple-system, BlinkMacSystemFont, 'Segoe UI', Helvetica, Arial, sans-serif, 'Apple Color Emoji', 'Segoe UI Emoji', 'Segoe UI Symbol'\" font-style=\"italic\" font-size=\"13.00\">string</text>\n",
       "<polygon fill=\"#f5f5f5\" stroke=\"none\" points=\"345.25,-263 345.25,-286 377.25,-286 377.25,-263 345.25,-263\"/>\n",
       "<polygon fill=\"#f5f5f5\" stroke=\"none\" points=\"377.25,-263 377.25,-286 477.25,-286 477.25,-263 377.25,-263\"/>\n",
       "<text text-anchor=\"start\" x=\"382.25\" y=\"-268.65\" font-family=\"-apple-system, BlinkMacSystemFont, 'Segoe UI', Helvetica, Arial, sans-serif, 'Apple Color Emoji', 'Segoe UI Emoji', 'Segoe UI Symbol'\" font-size=\"13.00\">Sub category</text>\n",
       "<polygon fill=\"#f5f5f5\" stroke=\"none\" points=\"477.25,-263 477.25,-286 527.25,-286 527.25,-263 477.25,-263\"/>\n",
       "<text text-anchor=\"start\" x=\"489.25\" y=\"-269.65\" font-family=\"-apple-system, BlinkMacSystemFont, 'Segoe UI', Helvetica, Arial, sans-serif, 'Apple Color Emoji', 'Segoe UI Emoji', 'Segoe UI Symbol'\" font-style=\"italic\" font-size=\"13.00\">string</text>\n",
       "<polygon fill=\"#ffffff\" stroke=\"none\" points=\"345.25,-240 345.25,-263 377.25,-263 377.25,-240 345.25,-240\"/>\n",
       "<polygon fill=\"#ffffff\" stroke=\"none\" points=\"377.25,-240 377.25,-263 477.25,-263 477.25,-240 377.25,-240\"/>\n",
       "<text text-anchor=\"start\" x=\"382.25\" y=\"-245.65\" font-family=\"-apple-system, BlinkMacSystemFont, 'Segoe UI', Helvetica, Arial, sans-serif, 'Apple Color Emoji', 'Segoe UI Emoji', 'Segoe UI Symbol'\" font-size=\"13.00\">Size</text>\n",
       "<polygon fill=\"#ffffff\" stroke=\"none\" points=\"477.25,-240 477.25,-263 527.25,-263 527.25,-240 477.25,-240\"/>\n",
       "<text text-anchor=\"start\" x=\"489.25\" y=\"-246.65\" font-family=\"-apple-system, BlinkMacSystemFont, 'Segoe UI', Helvetica, Arial, sans-serif, 'Apple Color Emoji', 'Segoe UI Emoji', 'Segoe UI Symbol'\" font-style=\"italic\" font-size=\"13.00\">string</text>\n",
       "<polygon fill=\"#f5f5f5\" stroke=\"none\" points=\"345.25,-217 345.25,-240 377.25,-240 377.25,-217 345.25,-217\"/>\n",
       "<polygon fill=\"#f5f5f5\" stroke=\"none\" points=\"377.25,-217 377.25,-240 477.25,-240 477.25,-217 377.25,-217\"/>\n",
       "<text text-anchor=\"start\" x=\"382.25\" y=\"-222.65\" font-family=\"-apple-system, BlinkMacSystemFont, 'Segoe UI', Helvetica, Arial, sans-serif, 'Apple Color Emoji', 'Segoe UI Emoji', 'Segoe UI Symbol'\" font-size=\"13.00\">Purchase price</text>\n",
       "<polygon fill=\"#f5f5f5\" stroke=\"none\" points=\"477.25,-217 477.25,-240 527.25,-240 527.25,-217 477.25,-217\"/>\n",
       "<text text-anchor=\"start\" x=\"482\" y=\"-223.65\" font-family=\"-apple-system, BlinkMacSystemFont, 'Segoe UI', Helvetica, Arial, sans-serif, 'Apple Color Emoji', 'Segoe UI Emoji', 'Segoe UI Symbol'\" font-style=\"italic\" font-size=\"13.00\">double</text>\n",
       "<polygon fill=\"#ffffff\" stroke=\"none\" points=\"345.25,-194 345.25,-217 377.25,-217 377.25,-194 345.25,-194\"/>\n",
       "<polygon fill=\"#ffffff\" stroke=\"none\" points=\"377.25,-194 377.25,-217 477.25,-217 477.25,-194 377.25,-194\"/>\n",
       "<text text-anchor=\"start\" x=\"382.25\" y=\"-199.65\" font-family=\"-apple-system, BlinkMacSystemFont, 'Segoe UI', Helvetica, Arial, sans-serif, 'Apple Color Emoji', 'Segoe UI Emoji', 'Segoe UI Symbol'\" font-size=\"13.00\">Color</text>\n",
       "<polygon fill=\"#ffffff\" stroke=\"none\" points=\"477.25,-194 477.25,-217 527.25,-217 527.25,-194 477.25,-194\"/>\n",
       "<text text-anchor=\"start\" x=\"489.25\" y=\"-200.65\" font-family=\"-apple-system, BlinkMacSystemFont, 'Segoe UI', Helvetica, Arial, sans-serif, 'Apple Color Emoji', 'Segoe UI Emoji', 'Segoe UI Symbol'\" font-style=\"italic\" font-size=\"13.00\">string</text>\n",
       "<polygon fill=\"#f5f5f5\" stroke=\"none\" points=\"345.25,-171 345.25,-194 377.25,-194 377.25,-171 345.25,-171\"/>\n",
       "<polygon fill=\"#f5f5f5\" stroke=\"none\" points=\"377.25,-171 377.25,-194 477.25,-194 477.25,-171 377.25,-171\"/>\n",
       "<text text-anchor=\"start\" x=\"382.25\" y=\"-176.65\" font-family=\"-apple-system, BlinkMacSystemFont, 'Segoe UI', Helvetica, Arial, sans-serif, 'Apple Color Emoji', 'Segoe UI Emoji', 'Segoe UI Symbol'\" font-size=\"13.00\">Brand</text>\n",
       "<polygon fill=\"#f5f5f5\" stroke=\"none\" points=\"477.25,-171 477.25,-194 527.25,-194 527.25,-171 477.25,-171\"/>\n",
       "<text text-anchor=\"start\" x=\"489.25\" y=\"-177.65\" font-family=\"-apple-system, BlinkMacSystemFont, 'Segoe UI', Helvetica, Arial, sans-serif, 'Apple Color Emoji', 'Segoe UI Emoji', 'Segoe UI Symbol'\" font-style=\"italic\" font-size=\"13.00\">string</text>\n",
       "<polygon fill=\"none\" stroke=\"black\" points=\"344.25,-170 344.25,-356 528.25,-356 528.25,-170 344.25,-170\"/>\n",
       "</g>\n",
       "<!-- Sales -->\n",
       "<g id=\"node2\" class=\"node\">\n",
       "<title>Sales</title>\n",
       "<text text-anchor=\"start\" x=\"75.88\" y=\"-232.15\" font-family=\"-apple-system, BlinkMacSystemFont, 'Segoe UI', Helvetica, Arial, sans-serif, 'Apple Color Emoji', 'Segoe UI Emoji', 'Segoe UI Symbol'\" font-weight=\"bold\" font-size=\"13.00\">Sales</text>\n",
       "<polygon fill=\"#f5f5f5\" stroke=\"none\" points=\"9,-202.5 9,-225.5 41,-225.5 41,-202.5 9,-202.5\"/>\n",
       "<text text-anchor=\"start\" x=\"13.75\" y=\"-209.15\" font-family=\"-apple-system, BlinkMacSystemFont, 'Segoe UI', Helvetica, Arial, sans-serif, 'Apple Color Emoji', 'Segoe UI Emoji', 'Segoe UI Symbol'\" font-weight=\"bold\" font-size=\"13.00\">key</text>\n",
       "<polygon fill=\"#f5f5f5\" stroke=\"none\" points=\"41,-202.5 41,-225.5 108,-225.5 108,-202.5 41,-202.5\"/>\n",
       "<text text-anchor=\"start\" x=\"46\" y=\"-208.15\" font-family=\"-apple-system, BlinkMacSystemFont, 'Segoe UI', Helvetica, Arial, sans-serif, 'Apple Color Emoji', 'Segoe UI Emoji', 'Segoe UI Symbol'\" font-size=\"13.00\">Sale ID</text>\n",
       "<polygon fill=\"#f5f5f5\" stroke=\"none\" points=\"108,-202.5 108,-225.5 178,-225.5 178,-202.5 108,-202.5\"/>\n",
       "<text text-anchor=\"start\" x=\"140\" y=\"-209.15\" font-family=\"-apple-system, BlinkMacSystemFont, 'Segoe UI', Helvetica, Arial, sans-serif, 'Apple Color Emoji', 'Segoe UI Emoji', 'Segoe UI Symbol'\" font-style=\"italic\" font-size=\"13.00\">string</text>\n",
       "<polygon fill=\"#ffffff\" stroke=\"none\" points=\"9,-179.5 9,-202.5 41,-202.5 41,-179.5 9,-179.5\"/>\n",
       "<polygon fill=\"#ffffff\" stroke=\"none\" points=\"41,-179.5 41,-202.5 108,-202.5 108,-179.5 41,-179.5\"/>\n",
       "<text text-anchor=\"start\" x=\"46\" y=\"-185.15\" font-family=\"-apple-system, BlinkMacSystemFont, 'Segoe UI', Helvetica, Arial, sans-serif, 'Apple Color Emoji', 'Segoe UI Emoji', 'Segoe UI Symbol'\" font-size=\"13.00\">Date</text>\n",
       "<polygon fill=\"#ffffff\" stroke=\"none\" points=\"108,-179.5 108,-202.5 178,-202.5 178,-179.5 108,-179.5\"/>\n",
       "<text text-anchor=\"start\" x=\"112.62\" y=\"-186.15\" font-family=\"-apple-system, BlinkMacSystemFont, 'Segoe UI', Helvetica, Arial, sans-serif, 'Apple Color Emoji', 'Segoe UI Emoji', 'Segoe UI Symbol'\" font-style=\"italic\" font-size=\"13.00\">LocalDate</text>\n",
       "<polygon fill=\"#f5f5f5\" stroke=\"none\" points=\"9,-156.5 9,-179.5 41,-179.5 41,-156.5 9,-156.5\"/>\n",
       "<polygon fill=\"#f5f5f5\" stroke=\"none\" points=\"41,-156.5 41,-179.5 108,-179.5 108,-156.5 41,-156.5\"/>\n",
       "<text text-anchor=\"start\" x=\"46\" y=\"-162.15\" font-family=\"-apple-system, BlinkMacSystemFont, 'Segoe UI', Helvetica, Arial, sans-serif, 'Apple Color Emoji', 'Segoe UI Emoji', 'Segoe UI Symbol'\" font-size=\"13.00\">Shop</text>\n",
       "<polygon fill=\"#f5f5f5\" stroke=\"none\" points=\"108,-156.5 108,-179.5 178,-179.5 178,-156.5 108,-156.5\"/>\n",
       "<text text-anchor=\"start\" x=\"140\" y=\"-163.15\" font-family=\"-apple-system, BlinkMacSystemFont, 'Segoe UI', Helvetica, Arial, sans-serif, 'Apple Color Emoji', 'Segoe UI Emoji', 'Segoe UI Symbol'\" font-style=\"italic\" font-size=\"13.00\">string</text>\n",
       "<polygon fill=\"#ffffff\" stroke=\"none\" points=\"9,-133.5 9,-156.5 41,-156.5 41,-133.5 9,-133.5\"/>\n",
       "<polygon fill=\"#ffffff\" stroke=\"none\" points=\"41,-133.5 41,-156.5 108,-156.5 108,-133.5 41,-133.5\"/>\n",
       "<text text-anchor=\"start\" x=\"46\" y=\"-139.15\" font-family=\"-apple-system, BlinkMacSystemFont, 'Segoe UI', Helvetica, Arial, sans-serif, 'Apple Color Emoji', 'Segoe UI Emoji', 'Segoe UI Symbol'\" font-size=\"13.00\">Product</text>\n",
       "<polygon fill=\"#ffffff\" stroke=\"none\" points=\"108,-133.5 108,-156.5 178,-156.5 178,-133.5 108,-133.5\"/>\n",
       "<text text-anchor=\"start\" x=\"140\" y=\"-140.15\" font-family=\"-apple-system, BlinkMacSystemFont, 'Segoe UI', Helvetica, Arial, sans-serif, 'Apple Color Emoji', 'Segoe UI Emoji', 'Segoe UI Symbol'\" font-style=\"italic\" font-size=\"13.00\">string</text>\n",
       "<polygon fill=\"#f5f5f5\" stroke=\"none\" points=\"9,-110.5 9,-133.5 41,-133.5 41,-110.5 9,-110.5\"/>\n",
       "<polygon fill=\"#f5f5f5\" stroke=\"none\" points=\"41,-110.5 41,-133.5 108,-133.5 108,-110.5 41,-110.5\"/>\n",
       "<text text-anchor=\"start\" x=\"46\" y=\"-116.15\" font-family=\"-apple-system, BlinkMacSystemFont, 'Segoe UI', Helvetica, Arial, sans-serif, 'Apple Color Emoji', 'Segoe UI Emoji', 'Segoe UI Symbol'\" font-size=\"13.00\">Quantity</text>\n",
       "<polygon fill=\"#f5f5f5\" stroke=\"none\" points=\"108,-110.5 108,-133.5 178,-133.5 178,-110.5 108,-110.5\"/>\n",
       "<text text-anchor=\"start\" x=\"132.5\" y=\"-117.15\" font-family=\"-apple-system, BlinkMacSystemFont, 'Segoe UI', Helvetica, Arial, sans-serif, 'Apple Color Emoji', 'Segoe UI Emoji', 'Segoe UI Symbol'\" font-style=\"italic\" font-size=\"13.00\">double</text>\n",
       "<polygon fill=\"#ffffff\" stroke=\"none\" points=\"9,-87.5 9,-110.5 41,-110.5 41,-87.5 9,-87.5\"/>\n",
       "<polygon fill=\"#ffffff\" stroke=\"none\" points=\"41,-87.5 41,-110.5 108,-110.5 108,-87.5 41,-87.5\"/>\n",
       "<text text-anchor=\"start\" x=\"46\" y=\"-93.15\" font-family=\"-apple-system, BlinkMacSystemFont, 'Segoe UI', Helvetica, Arial, sans-serif, 'Apple Color Emoji', 'Segoe UI Emoji', 'Segoe UI Symbol'\" font-size=\"13.00\">Unit price</text>\n",
       "<polygon fill=\"#ffffff\" stroke=\"none\" points=\"108,-87.5 108,-110.5 178,-110.5 178,-87.5 108,-87.5\"/>\n",
       "<text text-anchor=\"start\" x=\"132.5\" y=\"-94.15\" font-family=\"-apple-system, BlinkMacSystemFont, 'Segoe UI', Helvetica, Arial, sans-serif, 'Apple Color Emoji', 'Segoe UI Emoji', 'Segoe UI Symbol'\" font-style=\"italic\" font-size=\"13.00\">double</text>\n",
       "<polygon fill=\"none\" stroke=\"black\" points=\"8,-86.5 8,-249.5 179,-249.5 179,-86.5 8,-86.5\"/>\n",
       "</g>\n",
       "<!-- Sales&#45;&gt;Products -->\n",
       "<g id=\"edge1\" class=\"edge\">\n",
       "<title>Sales-&gt;Products</title>\n",
       "<path fill=\"none\" stroke=\"black\" d=\"M186.71,-193.71C229.5,-205.64 280.69,-219.91 325.46,-232.39\"/>\n",
       "<polygon fill=\"black\" stroke=\"black\" points=\"324.37,-235.72 334.94,-235.03 326.25,-228.98 324.37,-235.72\"/>\n",
       "<text text-anchor=\"middle\" x=\"261.62\" y=\"-231.65\" font-family=\"-apple-system, BlinkMacSystemFont, 'Segoe UI', Helvetica, Arial, sans-serif, 'Apple Color Emoji', 'Segoe UI Emoji', 'Segoe UI Symbol'\" font-size=\"13.00\">Product → Product</text>\n",
       "</g>\n",
       "<!-- Shops -->\n",
       "<g id=\"node3\" class=\"node\">\n",
       "<title>Shops</title>\n",
       "<text text-anchor=\"start\" x=\"415.62\" y=\"-126.65\" font-family=\"-apple-system, BlinkMacSystemFont, 'Segoe UI', Helvetica, Arial, sans-serif, 'Apple Color Emoji', 'Segoe UI Emoji', 'Segoe UI Symbol'\" font-weight=\"bold\" font-size=\"13.00\">Shops</text>\n",
       "<polygon fill=\"#f5f5f5\" stroke=\"none\" points=\"349.75,-97 349.75,-120 381.75,-120 381.75,-97 349.75,-97\"/>\n",
       "<text text-anchor=\"start\" x=\"354.5\" y=\"-103.65\" font-family=\"-apple-system, BlinkMacSystemFont, 'Segoe UI', Helvetica, Arial, sans-serif, 'Apple Color Emoji', 'Segoe UI Emoji', 'Segoe UI Symbol'\" font-weight=\"bold\" font-size=\"13.00\">key</text>\n",
       "<polygon fill=\"#f5f5f5\" stroke=\"none\" points=\"381.75,-97 381.75,-120 479.75,-120 479.75,-97 381.75,-97\"/>\n",
       "<text text-anchor=\"start\" x=\"386.75\" y=\"-102.65\" font-family=\"-apple-system, BlinkMacSystemFont, 'Segoe UI', Helvetica, Arial, sans-serif, 'Apple Color Emoji', 'Segoe UI Emoji', 'Segoe UI Symbol'\" font-size=\"13.00\">Shop ID</text>\n",
       "<polygon fill=\"#f5f5f5\" stroke=\"none\" points=\"479.75,-97 479.75,-120 522.75,-120 522.75,-97 479.75,-97\"/>\n",
       "<text text-anchor=\"start\" x=\"484.75\" y=\"-103.65\" font-family=\"-apple-system, BlinkMacSystemFont, 'Segoe UI', Helvetica, Arial, sans-serif, 'Apple Color Emoji', 'Segoe UI Emoji', 'Segoe UI Symbol'\" font-style=\"italic\" font-size=\"13.00\">string</text>\n",
       "<polygon fill=\"#ffffff\" stroke=\"none\" points=\"349.75,-74 349.75,-97 381.75,-97 381.75,-74 349.75,-74\"/>\n",
       "<polygon fill=\"#ffffff\" stroke=\"none\" points=\"381.75,-74 381.75,-97 479.75,-97 479.75,-74 381.75,-74\"/>\n",
       "<text text-anchor=\"start\" x=\"386.75\" y=\"-79.65\" font-family=\"-apple-system, BlinkMacSystemFont, 'Segoe UI', Helvetica, Arial, sans-serif, 'Apple Color Emoji', 'Segoe UI Emoji', 'Segoe UI Symbol'\" font-size=\"13.00\">City</text>\n",
       "<polygon fill=\"#ffffff\" stroke=\"none\" points=\"479.75,-74 479.75,-97 522.75,-97 522.75,-74 479.75,-74\"/>\n",
       "<text text-anchor=\"start\" x=\"484.75\" y=\"-80.65\" font-family=\"-apple-system, BlinkMacSystemFont, 'Segoe UI', Helvetica, Arial, sans-serif, 'Apple Color Emoji', 'Segoe UI Emoji', 'Segoe UI Symbol'\" font-style=\"italic\" font-size=\"13.00\">string</text>\n",
       "<polygon fill=\"#f5f5f5\" stroke=\"none\" points=\"349.75,-51 349.75,-74 381.75,-74 381.75,-51 349.75,-51\"/>\n",
       "<polygon fill=\"#f5f5f5\" stroke=\"none\" points=\"381.75,-51 381.75,-74 479.75,-74 479.75,-51 381.75,-51\"/>\n",
       "<text text-anchor=\"start\" x=\"386.5\" y=\"-56.65\" font-family=\"-apple-system, BlinkMacSystemFont, 'Segoe UI', Helvetica, Arial, sans-serif, 'Apple Color Emoji', 'Segoe UI Emoji', 'Segoe UI Symbol'\" font-size=\"13.00\">State or region</text>\n",
       "<polygon fill=\"#f5f5f5\" stroke=\"none\" points=\"479.75,-51 479.75,-74 522.75,-74 522.75,-51 479.75,-51\"/>\n",
       "<text text-anchor=\"start\" x=\"484.75\" y=\"-57.65\" font-family=\"-apple-system, BlinkMacSystemFont, 'Segoe UI', Helvetica, Arial, sans-serif, 'Apple Color Emoji', 'Segoe UI Emoji', 'Segoe UI Symbol'\" font-style=\"italic\" font-size=\"13.00\">string</text>\n",
       "<polygon fill=\"#ffffff\" stroke=\"none\" points=\"349.75,-28 349.75,-51 381.75,-51 381.75,-28 349.75,-28\"/>\n",
       "<polygon fill=\"#ffffff\" stroke=\"none\" points=\"381.75,-28 381.75,-51 479.75,-51 479.75,-28 381.75,-28\"/>\n",
       "<text text-anchor=\"start\" x=\"386.75\" y=\"-33.65\" font-family=\"-apple-system, BlinkMacSystemFont, 'Segoe UI', Helvetica, Arial, sans-serif, 'Apple Color Emoji', 'Segoe UI Emoji', 'Segoe UI Symbol'\" font-size=\"13.00\">Country</text>\n",
       "<polygon fill=\"#ffffff\" stroke=\"none\" points=\"479.75,-28 479.75,-51 522.75,-51 522.75,-28 479.75,-28\"/>\n",
       "<text text-anchor=\"start\" x=\"484.75\" y=\"-34.65\" font-family=\"-apple-system, BlinkMacSystemFont, 'Segoe UI', Helvetica, Arial, sans-serif, 'Apple Color Emoji', 'Segoe UI Emoji', 'Segoe UI Symbol'\" font-style=\"italic\" font-size=\"13.00\">string</text>\n",
       "<polygon fill=\"#f5f5f5\" stroke=\"none\" points=\"349.75,-5 349.75,-28 381.75,-28 381.75,-5 349.75,-5\"/>\n",
       "<polygon fill=\"#f5f5f5\" stroke=\"none\" points=\"381.75,-5 381.75,-28 479.75,-28 479.75,-5 381.75,-5\"/>\n",
       "<text text-anchor=\"start\" x=\"386.75\" y=\"-10.65\" font-family=\"-apple-system, BlinkMacSystemFont, 'Segoe UI', Helvetica, Arial, sans-serif, 'Apple Color Emoji', 'Segoe UI Emoji', 'Segoe UI Symbol'\" font-size=\"13.00\">Shop size</text>\n",
       "<polygon fill=\"#f5f5f5\" stroke=\"none\" points=\"479.75,-5 479.75,-28 522.75,-28 522.75,-5 479.75,-5\"/>\n",
       "<text text-anchor=\"start\" x=\"484.75\" y=\"-11.65\" font-family=\"-apple-system, BlinkMacSystemFont, 'Segoe UI', Helvetica, Arial, sans-serif, 'Apple Color Emoji', 'Segoe UI Emoji', 'Segoe UI Symbol'\" font-style=\"italic\" font-size=\"13.00\">string</text>\n",
       "<polygon fill=\"none\" stroke=\"black\" points=\"348.75,-4 348.75,-144 523.75,-144 523.75,-4 348.75,-4\"/>\n",
       "</g>\n",
       "<!-- Sales&#45;&gt;Shops -->\n",
       "<g id=\"edge2\" class=\"edge\">\n",
       "<title>Sales-&gt;Shops</title>\n",
       "<path fill=\"none\" stroke=\"black\" d=\"M186.71,-142.56C230.96,-130.36 284.19,-115.67 330.02,-103.03\"/>\n",
       "<polygon fill=\"black\" stroke=\"black\" points=\"330.72,-106.47 339.43,-100.43 328.86,-99.72 330.72,-106.47\"/>\n",
       "<text text-anchor=\"middle\" x=\"261.62\" y=\"-136.65\" font-family=\"-apple-system, BlinkMacSystemFont, 'Segoe UI', Helvetica, Arial, sans-serif, 'Apple Color Emoji', 'Segoe UI Emoji', 'Segoe UI Symbol'\" font-size=\"13.00\">Shop → Shop ID</text>\n",
       "</g>\n",
       "</g>\n",
       "</svg>"
      ],
      "text/plain": [
       "<IPython.core.display.SVG object>"
      ]
     },
     "execution_count": 7,
     "metadata": {},
     "output_type": "execute_result"
    }
   ],
   "source": [
    "# star schema\n",
    "sales_table.join(products_table, sales_table[\"Product\"] == products_table[\"Product\"])\n",
    "sales_table.join(shops_table, sales_table[\"Shop\"] == shops_table[\"Shop ID\"])\n",
    "# visualise the schema\n",
    "session.tables.schema"
   ]
  },
  {
   "cell_type": "code",
   "execution_count": null,
   "id": "8bc2e2d5-fcf9-4b42-9efa-b9d0ad492254",
   "metadata": {},
   "outputs": [
    {
     "data": {
      "application/json": {
       "Dimensions": {
        "Products": {
         "Brand": [
          "Brand"
         ],
         "Category": [
          "Category"
         ],
         "Color": [
          "Color"
         ],
         "Size": [
          "Size"
         ],
         "Sub category": [
          "Sub category"
         ]
        },
        "Sales": {
         "Date": [
          "Date"
         ],
         "Product": [
          "Product"
         ],
         "Sale ID": [
          "Sale ID"
         ],
         "Shop": [
          "Shop"
         ]
        },
        "Shops": {
         "City": [
          "City"
         ],
         "Country": [
          "Country"
         ],
         "Shop size": [
          "Shop size"
         ],
         "State or region": [
          "State or region"
         ]
        }
       },
       "Measures": {
        "Quantity.MEAN": {
         "formatter": "DOUBLE[#,###.00]"
        },
        "Quantity.SUM": {
         "formatter": "DOUBLE[#,###.00]"
        },
        "Unit price.MEAN": {
         "formatter": "DOUBLE[#,###.00]"
        },
        "Unit price.SUM": {
         "formatter": "DOUBLE[#,###.00]"
        },
        "contributors.COUNT": {
         "formatter": "INT[#,###]"
        }
       }
      },
      "text/html": [
       "<ul>\n",
       "<li>Sales\n",
       "  <ul>\n",
       "  <li>Dimensions\n",
       "    <ul>\n",
       "    <li>Products\n",
       "      <ul>\n",
       "      <li>Brand\n",
       "        <ol>\n",
       "        <li>Brand</li>\n",
       "        </ol>      </li>\n",
       "      <li>Category\n",
       "        <ol>\n",
       "        <li>Category</li>\n",
       "        </ol>      </li>\n",
       "      <li>Color\n",
       "        <ol>\n",
       "        <li>Color</li>\n",
       "        </ol>      </li>\n",
       "      <li>Size\n",
       "        <ol>\n",
       "        <li>Size</li>\n",
       "        </ol>      </li>\n",
       "      <li>Sub category\n",
       "        <ol>\n",
       "        <li>Sub category</li>\n",
       "        </ol>      </li>\n",
       "      </ul>\n",
       "    </li>\n",
       "    <li>Sales\n",
       "      <ul>\n",
       "      <li>Date\n",
       "        <ol>\n",
       "        <li>Date</li>\n",
       "        </ol>      </li>\n",
       "      <li>Product\n",
       "        <ol>\n",
       "        <li>Product</li>\n",
       "        </ol>      </li>\n",
       "      <li>Sale ID\n",
       "        <ol>\n",
       "        <li>Sale ID</li>\n",
       "        </ol>      </li>\n",
       "      <li>Shop\n",
       "        <ol>\n",
       "        <li>Shop</li>\n",
       "        </ol>      </li>\n",
       "      </ul>\n",
       "    </li>\n",
       "    <li>Shops\n",
       "      <ul>\n",
       "      <li>City\n",
       "        <ol>\n",
       "        <li>City</li>\n",
       "        </ol>      </li>\n",
       "      <li>Country\n",
       "        <ol>\n",
       "        <li>Country</li>\n",
       "        </ol>      </li>\n",
       "      <li>Shop size\n",
       "        <ol>\n",
       "        <li>Shop size</li>\n",
       "        </ol>      </li>\n",
       "      <li>State or region\n",
       "        <ol>\n",
       "        <li>State or region</li>\n",
       "        </ol>      </li>\n",
       "      </ul>\n",
       "    </li>\n",
       "    </ul>\n",
       "  </li>\n",
       "  <li>Measures\n",
       "    <ul>\n",
       "    <li>Quantity.MEAN\n",
       "      <ul>\n",
       "      <li>formatter: DOUBLE[#,###.00]</li>\n",
       "      </ul>\n",
       "    </li>\n",
       "    <li>Quantity.SUM\n",
       "      <ul>\n",
       "      <li>formatter: DOUBLE[#,###.00]</li>\n",
       "      </ul>\n",
       "    </li>\n",
       "    <li>Unit price.MEAN\n",
       "      <ul>\n",
       "      <li>formatter: DOUBLE[#,###.00]</li>\n",
       "      </ul>\n",
       "    </li>\n",
       "    <li>Unit price.SUM\n",
       "      <ul>\n",
       "      <li>formatter: DOUBLE[#,###.00]</li>\n",
       "      </ul>\n",
       "    </li>\n",
       "    <li>contributors.COUNT\n",
       "      <ul>\n",
       "      <li>formatter: INT[#,###]</li>\n",
       "      </ul>\n",
       "    </li>\n",
       "    </ul>\n",
       "  </li>\n",
       "  </ul>\n",
       "</li>\n",
       "</ul>\n"
      ],
      "text/plain": [
       "<atoti.cube.Cube at 0x124b2f2b0>"
      ]
     },
     "execution_count": 8,
     "metadata": {
      "application/json": {
       "expanded": false,
       "root": "Sales"
      }
     },
     "output_type": "execute_result"
    }
   ],
   "source": [
    "# create cube\n",
    "cube = session.create_cube(sales_table)\n",
    "cube"
   ]
  },
  {
   "cell_type": "code",
   "execution_count": null,
   "id": "2902a0ca-faff-4be4-aabf-f7d45a8cf996",
   "metadata": {},
   "outputs": [],
   "source": [
    "# The cube has automatically created a hierarchy, level and measures\n",
    "hierarchies, levels, measures = cube.hierarchies, cube.levels, cube.measures"
   ]
  },
  {
   "cell_type": "code",
   "execution_count": null,
   "id": "5ba6357b-dd09-47e1-9ae6-bec384312cde",
   "metadata": {},
   "outputs": [
    {
     "data": {
      "application/json": {
       "Quantity.MEAN": {
        "formatter": "DOUBLE[#,###.00]"
       },
       "Quantity.SUM": {
        "formatter": "DOUBLE[#,###.00]"
       },
       "Unit price.MEAN": {
        "formatter": "DOUBLE[#,###.00]"
       },
       "Unit price.SUM": {
        "formatter": "DOUBLE[#,###.00]"
       },
       "contributors.COUNT": {
        "formatter": "INT[#,###]"
       }
      },
      "text/html": [
       "<ul>\n",
       "<li>Measures\n",
       "  <ul>\n",
       "  <li>Quantity.MEAN\n",
       "    <ul>\n",
       "    <li>formatter: DOUBLE[#,###.00]</li>\n",
       "    </ul>\n",
       "  </li>\n",
       "  <li>Quantity.SUM\n",
       "    <ul>\n",
       "    <li>formatter: DOUBLE[#,###.00]</li>\n",
       "    </ul>\n",
       "  </li>\n",
       "  <li>Unit price.MEAN\n",
       "    <ul>\n",
       "    <li>formatter: DOUBLE[#,###.00]</li>\n",
       "    </ul>\n",
       "  </li>\n",
       "  <li>Unit price.SUM\n",
       "    <ul>\n",
       "    <li>formatter: DOUBLE[#,###.00]</li>\n",
       "    </ul>\n",
       "  </li>\n",
       "  <li>contributors.COUNT\n",
       "    <ul>\n",
       "    <li>formatter: INT[#,###]</li>\n",
       "    </ul>\n",
       "  </li>\n",
       "  </ul>\n",
       "</li>\n",
       "</ul>\n"
      ],
      "text/plain": [
       "{'contributors.COUNT': <atoti.measure.Measure object at 0x124b2c820>, 'update.TIMESTAMP': <atoti.measure.Measure object at 0x124a53040>, 'Unit price.SUM': <atoti.measure.Measure object at 0x124c24040>, 'Unit price.MEAN': <atoti.measure.Measure object at 0x124c24070>, 'Quantity.SUM': <atoti.measure.Measure object at 0x124c24820>, 'Quantity.MEAN': <atoti.measure.Measure object at 0x124c248e0>}"
      ]
     },
     "execution_count": 10,
     "metadata": {
      "application/json": {
       "expanded": false,
       "root": "Measures"
      }
     },
     "output_type": "execute_result"
    }
   ],
   "source": [
    "measures"
   ]
  },
  {
   "cell_type": "markdown",
   "id": "fb4f518f-ecd8-4e6c-ad9e-f10cf0f9a4fe",
   "metadata": {},
   "source": [
    "Some measures have been automatically created from numeric columns but are not useful. For instance, Unit Price.SUM does not really make sense as we never want to sum the unit prices. We can delete it:"
   ]
  },
  {
   "cell_type": "code",
   "execution_count": null,
   "id": "3d8d5536-dc34-47e1-846d-67d0388a1e3e",
   "metadata": {},
   "outputs": [
    {
     "data": {
      "application/json": {
       "Quantity.MEAN": {
        "formatter": "DOUBLE[#,###.00]"
       },
       "Quantity.SUM": {
        "formatter": "DOUBLE[#,###.00]"
       },
       "Unit price.MEAN": {
        "formatter": "DOUBLE[#,###.00]"
       },
       "contributors.COUNT": {
        "formatter": "INT[#,###]"
       }
      },
      "text/html": [
       "<ul>\n",
       "<li>Measures\n",
       "  <ul>\n",
       "  <li>Quantity.MEAN\n",
       "    <ul>\n",
       "    <li>formatter: DOUBLE[#,###.00]</li>\n",
       "    </ul>\n",
       "  </li>\n",
       "  <li>Quantity.SUM\n",
       "    <ul>\n",
       "    <li>formatter: DOUBLE[#,###.00]</li>\n",
       "    </ul>\n",
       "  </li>\n",
       "  <li>Unit price.MEAN\n",
       "    <ul>\n",
       "    <li>formatter: DOUBLE[#,###.00]</li>\n",
       "    </ul>\n",
       "  </li>\n",
       "  <li>contributors.COUNT\n",
       "    <ul>\n",
       "    <li>formatter: INT[#,###]</li>\n",
       "    </ul>\n",
       "  </li>\n",
       "  </ul>\n",
       "</li>\n",
       "</ul>\n"
      ],
      "text/plain": [
       "{'contributors.COUNT': <atoti.measure.Measure object at 0x124ab5570>, 'update.TIMESTAMP': <atoti.measure.Measure object at 0x124ab5cf0>, 'Unit price.MEAN': <atoti.measure.Measure object at 0x124b2f580>, 'Quantity.SUM': <atoti.measure.Measure object at 0x124b2c9a0>, 'Quantity.MEAN': <atoti.measure.Measure object at 0x124b2ceb0>}"
      ]
     },
     "execution_count": 11,
     "metadata": {
      "application/json": {
       "expanded": false,
       "root": "Measures"
      }
     },
     "output_type": "execute_result"
    }
   ],
   "source": [
    "del measures[\"Unit price.SUM\"]\n",
    "measures"
   ]
  },
  {
   "cell_type": "markdown",
   "id": "f8c1cbf0-aff9-4235-a5b4-5b437ad24228",
   "metadata": {},
   "source": [
    "you can also create some measures based on the need, e.g. tt.agg.sum() and tt.agg.mean()\n",
    "```python\n",
    "m[\"Amount.SUM\"] = tt.agg.sum(sales_table[\"Quantity\"] * sales_table[\"Unit price\"])\n",
    "m[\"Amount.MEAN\"] = tt.agg.mean(\n",
    "    sales_table[\"Quantity\"] * sales_table[\"Unit price\"],\n",
    ")\n",
    "```"
   ]
  },
  {
   "cell_type": "code",
   "execution_count": null,
   "id": "56cee5ee-f083-49e9-b9a7-f152e3413f3a",
   "metadata": {},
   "outputs": [
    {
     "data": {
      "application/json": {
       "Products": {
        "Brand": [
         "Brand"
        ],
        "Category": [
         "Category"
        ],
        "Color": [
         "Color"
        ],
        "Size": [
         "Size"
        ],
        "Sub category": [
         "Sub category"
        ]
       },
       "Sales": {
        "Date": [
         "Date"
        ],
        "Product": [
         "Product"
        ],
        "Sale ID": [
         "Sale ID"
        ],
        "Shop": [
         "Shop"
        ]
       },
       "Shops": {
        "City": [
         "City"
        ],
        "Country": [
         "Country"
        ],
        "Shop size": [
         "Shop size"
        ],
        "State or region": [
         "State or region"
        ]
       }
      },
      "text/html": [
       "<ul>\n",
       "<li>Dimensions\n",
       "  <ul>\n",
       "  <li>Products\n",
       "    <ul>\n",
       "    <li>Brand\n",
       "      <ol>\n",
       "      <li>Brand</li>\n",
       "      </ol>    </li>\n",
       "    <li>Category\n",
       "      <ol>\n",
       "      <li>Category</li>\n",
       "      </ol>    </li>\n",
       "    <li>Color\n",
       "      <ol>\n",
       "      <li>Color</li>\n",
       "      </ol>    </li>\n",
       "    <li>Size\n",
       "      <ol>\n",
       "      <li>Size</li>\n",
       "      </ol>    </li>\n",
       "    <li>Sub category\n",
       "      <ol>\n",
       "      <li>Sub category</li>\n",
       "      </ol>    </li>\n",
       "    </ul>\n",
       "  </li>\n",
       "  <li>Sales\n",
       "    <ul>\n",
       "    <li>Date\n",
       "      <ol>\n",
       "      <li>Date</li>\n",
       "      </ol>    </li>\n",
       "    <li>Product\n",
       "      <ol>\n",
       "      <li>Product</li>\n",
       "      </ol>    </li>\n",
       "    <li>Sale ID\n",
       "      <ol>\n",
       "      <li>Sale ID</li>\n",
       "      </ol>    </li>\n",
       "    <li>Shop\n",
       "      <ol>\n",
       "      <li>Shop</li>\n",
       "      </ol>    </li>\n",
       "    </ul>\n",
       "  </li>\n",
       "  <li>Shops\n",
       "    <ul>\n",
       "    <li>City\n",
       "      <ol>\n",
       "      <li>City</li>\n",
       "      </ol>    </li>\n",
       "    <li>Country\n",
       "      <ol>\n",
       "      <li>Country</li>\n",
       "      </ol>    </li>\n",
       "    <li>Shop size\n",
       "      <ol>\n",
       "      <li>Shop size</li>\n",
       "      </ol>    </li>\n",
       "    <li>State or region\n",
       "      <ol>\n",
       "      <li>State or region</li>\n",
       "      </ol>    </li>\n",
       "    </ul>\n",
       "  </li>\n",
       "  </ul>\n",
       "</li>\n",
       "</ul>\n"
      ],
      "text/plain": [
       "{('Sales', 'Sale ID'): <atoti.hierarchy.Hierarchy object at 0x124bb3160>, ('Shops', 'Shop size'): <atoti.hierarchy.Hierarchy object at 0x124bb22f0>, ('Shops', 'State or region'): <atoti.hierarchy.Hierarchy object at 0x124bb3280>, ('Shops', 'Country'): <atoti.hierarchy.Hierarchy object at 0x124bb3b20>, ('Products', 'Color'): <atoti.hierarchy.Hierarchy object at 0x124bb37f0>, ('Sales', 'Shop'): <atoti.hierarchy.Hierarchy object at 0x124bb3c70>, ('Products', 'Brand'): <atoti.hierarchy.Hierarchy object at 0x124bb2380>, ('Sales', 'Product'): <atoti.hierarchy.Hierarchy object at 0x124bb3610>, ('Products', 'Sub category'): <atoti.hierarchy.Hierarchy object at 0x124bb3ac0>, ('Products', 'Category'): <atoti.hierarchy.Hierarchy object at 0x124bb1bd0>, ('Products', 'Size'): <atoti.hierarchy.Hierarchy object at 0x124bb3670>, ('Shops', 'City'): <atoti.hierarchy.Hierarchy object at 0x124bb3b80>, ('Sales', 'Date'): <atoti.hierarchy.Hierarchy object at 0x124bb31f0>}"
      ]
     },
     "execution_count": 12,
     "metadata": {
      "application/json": {
       "expanded": true,
       "root": "Dimensions"
      }
     },
     "output_type": "execute_result"
    }
   ],
   "source": [
    "hierarchies"
   ]
  },
  {
   "cell_type": "markdown",
   "id": "9b6a6cbe-f03d-4ab4-be42-055a543a799d",
   "metadata": {},
   "source": [
    "You can see that the cube has automatically created a hierarchy for each non-numeric column in each table."
   ]
  },
  {
   "cell_type": "code",
   "execution_count": null,
   "id": "24a91d5a-8ca4-4432-aa71-749a10b48f4a",
   "metadata": {},
   "outputs": [
    {
     "data": {
      "application/json": {
       "Brand (Products/Brand/Brand)": {
        "dimension": "Products",
        "hierarchy": "Brand",
        "order": "NaturalOrder",
        "type": "String"
       },
       "Category (Products/Category/Category)": {
        "dimension": "Products",
        "hierarchy": "Category",
        "order": "NaturalOrder",
        "type": "String"
       },
       "City (Shops/City/City)": {
        "dimension": "Shops",
        "hierarchy": "City",
        "order": "NaturalOrder",
        "type": "String"
       },
       "Color (Products/Color/Color)": {
        "dimension": "Products",
        "hierarchy": "Color",
        "order": "NaturalOrder",
        "type": "String"
       },
       "Country (Shops/Country/Country)": {
        "dimension": "Shops",
        "hierarchy": "Country",
        "order": "NaturalOrder",
        "type": "String"
       },
       "Date (Sales/Date/Date)": {
        "dimension": "Sales",
        "hierarchy": "Date",
        "order": "NaturalOrder",
        "type": "LocalDate"
       },
       "Product (Sales/Product/Product)": {
        "dimension": "Sales",
        "hierarchy": "Product",
        "order": "NaturalOrder",
        "type": "String"
       },
       "Sale ID (Sales/Sale ID/Sale ID)": {
        "dimension": "Sales",
        "hierarchy": "Sale ID",
        "order": "NaturalOrder",
        "type": "String"
       },
       "Shop (Sales/Shop/Shop)": {
        "dimension": "Sales",
        "hierarchy": "Shop",
        "order": "NaturalOrder",
        "type": "String"
       },
       "Shop size (Shops/Shop size/Shop size)": {
        "dimension": "Shops",
        "hierarchy": "Shop size",
        "order": "NaturalOrder",
        "type": "String"
       },
       "Size (Products/Size/Size)": {
        "dimension": "Products",
        "hierarchy": "Size",
        "order": "NaturalOrder",
        "type": "String"
       },
       "State or region (Shops/State or region/State or region)": {
        "dimension": "Shops",
        "hierarchy": "State or region",
        "order": "NaturalOrder",
        "type": "String"
       },
       "Sub category (Products/Sub category/Sub category)": {
        "dimension": "Products",
        "hierarchy": "Sub category",
        "order": "NaturalOrder",
        "type": "String"
       }
      },
      "text/html": [
       "<ul>\n",
       "<li>Levels\n",
       "  <ul>\n",
       "  <li>Brand (Products/Brand/Brand)\n",
       "    <ul>\n",
       "    <li>dimension: Products</li>\n",
       "    <li>hierarchy: Brand</li>\n",
       "    <li>type: String</li>\n",
       "    <li>order: NaturalOrder</li>\n",
       "    </ul>\n",
       "  </li>\n",
       "  <li>Category (Products/Category/Category)\n",
       "    <ul>\n",
       "    <li>dimension: Products</li>\n",
       "    <li>hierarchy: Category</li>\n",
       "    <li>type: String</li>\n",
       "    <li>order: NaturalOrder</li>\n",
       "    </ul>\n",
       "  </li>\n",
       "  <li>City (Shops/City/City)\n",
       "    <ul>\n",
       "    <li>dimension: Shops</li>\n",
       "    <li>hierarchy: City</li>\n",
       "    <li>type: String</li>\n",
       "    <li>order: NaturalOrder</li>\n",
       "    </ul>\n",
       "  </li>\n",
       "  <li>Color (Products/Color/Color)\n",
       "    <ul>\n",
       "    <li>dimension: Products</li>\n",
       "    <li>hierarchy: Color</li>\n",
       "    <li>type: String</li>\n",
       "    <li>order: NaturalOrder</li>\n",
       "    </ul>\n",
       "  </li>\n",
       "  <li>Country (Shops/Country/Country)\n",
       "    <ul>\n",
       "    <li>dimension: Shops</li>\n",
       "    <li>hierarchy: Country</li>\n",
       "    <li>type: String</li>\n",
       "    <li>order: NaturalOrder</li>\n",
       "    </ul>\n",
       "  </li>\n",
       "  <li>Date (Sales/Date/Date)\n",
       "    <ul>\n",
       "    <li>dimension: Sales</li>\n",
       "    <li>hierarchy: Date</li>\n",
       "    <li>type: LocalDate</li>\n",
       "    <li>order: NaturalOrder</li>\n",
       "    </ul>\n",
       "  </li>\n",
       "  <li>Product (Sales/Product/Product)\n",
       "    <ul>\n",
       "    <li>dimension: Sales</li>\n",
       "    <li>hierarchy: Product</li>\n",
       "    <li>type: String</li>\n",
       "    <li>order: NaturalOrder</li>\n",
       "    </ul>\n",
       "  </li>\n",
       "  <li>Sale ID (Sales/Sale ID/Sale ID)\n",
       "    <ul>\n",
       "    <li>dimension: Sales</li>\n",
       "    <li>hierarchy: Sale ID</li>\n",
       "    <li>type: String</li>\n",
       "    <li>order: NaturalOrder</li>\n",
       "    </ul>\n",
       "  </li>\n",
       "  <li>Shop (Sales/Shop/Shop)\n",
       "    <ul>\n",
       "    <li>dimension: Sales</li>\n",
       "    <li>hierarchy: Shop</li>\n",
       "    <li>type: String</li>\n",
       "    <li>order: NaturalOrder</li>\n",
       "    </ul>\n",
       "  </li>\n",
       "  <li>Shop size (Shops/Shop size/Shop size)\n",
       "    <ul>\n",
       "    <li>dimension: Shops</li>\n",
       "    <li>hierarchy: Shop size</li>\n",
       "    <li>type: String</li>\n",
       "    <li>order: NaturalOrder</li>\n",
       "    </ul>\n",
       "  </li>\n",
       "  <li>Size (Products/Size/Size)\n",
       "    <ul>\n",
       "    <li>dimension: Products</li>\n",
       "    <li>hierarchy: Size</li>\n",
       "    <li>type: String</li>\n",
       "    <li>order: NaturalOrder</li>\n",
       "    </ul>\n",
       "  </li>\n",
       "  <li>State or region (Shops/State or region/State or region)\n",
       "    <ul>\n",
       "    <li>dimension: Shops</li>\n",
       "    <li>hierarchy: State or region</li>\n",
       "    <li>type: String</li>\n",
       "    <li>order: NaturalOrder</li>\n",
       "    </ul>\n",
       "  </li>\n",
       "  <li>Sub category (Products/Sub category/Sub category)\n",
       "    <ul>\n",
       "    <li>dimension: Products</li>\n",
       "    <li>hierarchy: Sub category</li>\n",
       "    <li>type: String</li>\n",
       "    <li>order: NaturalOrder</li>\n",
       "    </ul>\n",
       "  </li>\n",
       "  </ul>\n",
       "</li>\n",
       "</ul>\n"
      ],
      "text/plain": [
       "<atoti.levels.Levels at 0x124ab41f0>"
      ]
     },
     "execution_count": 13,
     "metadata": {
      "application/json": {
       "expanded": true,
       "root": "Levels"
      }
     },
     "output_type": "execute_result"
    }
   ],
   "source": [
    "# Hierarchies are made of levels in Atoti. Levels of the same hierarchy are attributes with a parent-child relationship.\n",
    "levels"
   ]
  },
  {
   "cell_type": "code",
   "execution_count": null,
   "id": "68b6a07b-7e41-4c88-8f4a-d29425115fb3",
   "metadata": {},
   "outputs": [
    {
     "data": {
      "application/json": {
       "Products": {
        "Brand": [
         "Brand"
        ],
        "Category": [
         "Category"
        ],
        "Color": [
         "Color"
        ],
        "Product": [
         "Category",
         "Sub category",
         "Product"
        ],
        "Size": [
         "Size"
        ],
        "Sub category": [
         "Sub category"
        ]
       },
       "Sales": {
        "Date": [
         "Date"
        ],
        "Product": [
         "Product"
        ],
        "Sale ID": [
         "Sale ID"
        ],
        "Shop": [
         "Shop"
        ]
       },
       "Shops": {
        "City": [
         "City"
        ],
        "Country": [
         "Country"
        ],
        "Shop size": [
         "Shop size"
        ],
        "State or region": [
         "State or region"
        ]
       }
      },
      "text/html": [
       "<ul>\n",
       "<li>Dimensions\n",
       "  <ul>\n",
       "  <li>Products\n",
       "    <ul>\n",
       "    <li>Brand\n",
       "      <ol>\n",
       "      <li>Brand</li>\n",
       "      </ol>    </li>\n",
       "    <li>Category\n",
       "      <ol>\n",
       "      <li>Category</li>\n",
       "      </ol>    </li>\n",
       "    <li>Color\n",
       "      <ol>\n",
       "      <li>Color</li>\n",
       "      </ol>    </li>\n",
       "    <li>Product\n",
       "      <ol>\n",
       "      <li>Category</li>\n",
       "      <li>Sub category</li>\n",
       "      <li>Product</li>\n",
       "      </ol>    </li>\n",
       "    <li>Size\n",
       "      <ol>\n",
       "      <li>Size</li>\n",
       "      </ol>    </li>\n",
       "    <li>Sub category\n",
       "      <ol>\n",
       "      <li>Sub category</li>\n",
       "      </ol>    </li>\n",
       "    </ul>\n",
       "  </li>\n",
       "  <li>Sales\n",
       "    <ul>\n",
       "    <li>Date\n",
       "      <ol>\n",
       "      <li>Date</li>\n",
       "      </ol>    </li>\n",
       "    <li>Product\n",
       "      <ol>\n",
       "      <li>Product</li>\n",
       "      </ol>    </li>\n",
       "    <li>Sale ID\n",
       "      <ol>\n",
       "      <li>Sale ID</li>\n",
       "      </ol>    </li>\n",
       "    <li>Shop\n",
       "      <ol>\n",
       "      <li>Shop</li>\n",
       "      </ol>    </li>\n",
       "    </ul>\n",
       "  </li>\n",
       "  <li>Shops\n",
       "    <ul>\n",
       "    <li>City\n",
       "      <ol>\n",
       "      <li>City</li>\n",
       "      </ol>    </li>\n",
       "    <li>Country\n",
       "      <ol>\n",
       "      <li>Country</li>\n",
       "      </ol>    </li>\n",
       "    <li>Shop size\n",
       "      <ol>\n",
       "      <li>Shop size</li>\n",
       "      </ol>    </li>\n",
       "    <li>State or region\n",
       "      <ol>\n",
       "      <li>State or region</li>\n",
       "      </ol>    </li>\n",
       "    </ul>\n",
       "  </li>\n",
       "  </ul>\n",
       "</li>\n",
       "</ul>\n"
      ],
      "text/plain": [
       "{('Sales', 'Sale ID'): <atoti.hierarchy.Hierarchy object at 0x124c267d0>, ('Shops', 'Shop size'): <atoti.hierarchy.Hierarchy object at 0x124c242e0>, ('Shops', 'State or region'): <atoti.hierarchy.Hierarchy object at 0x124c27400>, ('Shops', 'Country'): <atoti.hierarchy.Hierarchy object at 0x124c26710>, ('Products', 'Color'): <atoti.hierarchy.Hierarchy object at 0x124c26800>, ('Sales', 'Shop'): <atoti.hierarchy.Hierarchy object at 0x124c24cd0>, ('Products', 'Brand'): <atoti.hierarchy.Hierarchy object at 0x124c245e0>, ('Sales', 'Product'): <atoti.hierarchy.Hierarchy object at 0x124c24760>, ('Products', 'Sub category'): <atoti.hierarchy.Hierarchy object at 0x124c25360>, ('Products', 'Category'): <atoti.hierarchy.Hierarchy object at 0x124c25750>, ('Products', 'Size'): <atoti.hierarchy.Hierarchy object at 0x124c24280>, ('Shops', 'City'): <atoti.hierarchy.Hierarchy object at 0x124c25e70>, ('Sales', 'Date'): <atoti.hierarchy.Hierarchy object at 0x124c27190>, ('Products', 'Product'): <atoti.hierarchy.Hierarchy object at 0x124bb2fe0>}"
      ]
     },
     "execution_count": 14,
     "metadata": {
      "application/json": {
       "expanded": true,
       "root": "Dimensions"
      }
     },
     "output_type": "execute_result"
    }
   ],
   "source": [
    "# In Products dimension table, we can group the Category, SubCategory and Product ID levels into a Product hierarchy:\n",
    "\n",
    "# option 1:\n",
    "#hierarchies[\"Product\"] = [levels[\"Product\"], levels[\"Sub category\"], levels[\"Category\"]]\n",
    "\n",
    "# option 2:\n",
    "hierarchies[\"Product\"] = [levels[\"Category\"], levels[\"Sub category\"], levels[\"Product\"]]\n",
    "\n",
    "hierarchies\n",
    "# Your task: Do the above two options have the same results? Why?"
   ]
  },
  {
   "cell_type": "code",
   "execution_count": null,
   "id": "60b2e61e-1fe7-4ba2-97ac-2467e63ab23e",
   "metadata": {},
   "outputs": [],
   "source": [
    "# remove the old hierarchy\n",
    "del hierarchies[\"Category\"]\n",
    "del hierarchies[\"Sub category\"]"
   ]
  },
  {
   "cell_type": "code",
   "execution_count": null,
   "id": "7539c43e-461d-44f2-8fe6-7edb98e6718d",
   "metadata": {},
   "outputs": [
    {
     "data": {
      "application/json": {
       "Products": {
        "Brand": [
         "Brand"
        ],
        "Color": [
         "Color"
        ],
        "Product": [
         "Category",
         "Sub category",
         "Product"
        ],
        "Size": [
         "Size"
        ]
       },
       "Sales": {
        "Date": [
         "Date"
        ],
        "Product": [
         "Product"
        ],
        "Sale ID": [
         "Sale ID"
        ],
        "Shop": [
         "Shop"
        ]
       },
       "Shops": {
        "City": [
         "City"
        ],
        "Country": [
         "Country"
        ],
        "Shop size": [
         "Shop size"
        ],
        "State or region": [
         "State or region"
        ]
       }
      },
      "text/html": [
       "<ul>\n",
       "<li>Dimensions\n",
       "  <ul>\n",
       "  <li>Products\n",
       "    <ul>\n",
       "    <li>Brand\n",
       "      <ol>\n",
       "      <li>Brand</li>\n",
       "      </ol>    </li>\n",
       "    <li>Color\n",
       "      <ol>\n",
       "      <li>Color</li>\n",
       "      </ol>    </li>\n",
       "    <li>Product\n",
       "      <ol>\n",
       "      <li>Category</li>\n",
       "      <li>Sub category</li>\n",
       "      <li>Product</li>\n",
       "      </ol>    </li>\n",
       "    <li>Size\n",
       "      <ol>\n",
       "      <li>Size</li>\n",
       "      </ol>    </li>\n",
       "    </ul>\n",
       "  </li>\n",
       "  <li>Sales\n",
       "    <ul>\n",
       "    <li>Date\n",
       "      <ol>\n",
       "      <li>Date</li>\n",
       "      </ol>    </li>\n",
       "    <li>Product\n",
       "      <ol>\n",
       "      <li>Product</li>\n",
       "      </ol>    </li>\n",
       "    <li>Sale ID\n",
       "      <ol>\n",
       "      <li>Sale ID</li>\n",
       "      </ol>    </li>\n",
       "    <li>Shop\n",
       "      <ol>\n",
       "      <li>Shop</li>\n",
       "      </ol>    </li>\n",
       "    </ul>\n",
       "  </li>\n",
       "  <li>Shops\n",
       "    <ul>\n",
       "    <li>City\n",
       "      <ol>\n",
       "      <li>City</li>\n",
       "      </ol>    </li>\n",
       "    <li>Country\n",
       "      <ol>\n",
       "      <li>Country</li>\n",
       "      </ol>    </li>\n",
       "    <li>Shop size\n",
       "      <ol>\n",
       "      <li>Shop size</li>\n",
       "      </ol>    </li>\n",
       "    <li>State or region\n",
       "      <ol>\n",
       "      <li>State or region</li>\n",
       "      </ol>    </li>\n",
       "    </ul>\n",
       "  </li>\n",
       "  </ul>\n",
       "</li>\n",
       "</ul>\n"
      ],
      "text/plain": [
       "{('Products', 'Brand'): <atoti.hierarchy.Hierarchy object at 0x124c27340>, ('Sales', 'Sale ID'): <atoti.hierarchy.Hierarchy object at 0x124c27460>, ('Shops', 'Shop size'): <atoti.hierarchy.Hierarchy object at 0x124c244f0>, ('Sales', 'Product'): <atoti.hierarchy.Hierarchy object at 0x124c26bc0>, ('Products', 'Size'): <atoti.hierarchy.Hierarchy object at 0x124c250c0>, ('Shops', 'State or region'): <atoti.hierarchy.Hierarchy object at 0x124c24970>, ('Shops', 'City'): <atoti.hierarchy.Hierarchy object at 0x124c493f0>, ('Sales', 'Date'): <atoti.hierarchy.Hierarchy object at 0x124c489d0>, ('Products', 'Product'): <atoti.hierarchy.Hierarchy object at 0x124c48ac0>, ('Shops', 'Country'): <atoti.hierarchy.Hierarchy object at 0x124c48610>, ('Products', 'Color'): <atoti.hierarchy.Hierarchy object at 0x124c4a9e0>, ('Sales', 'Shop'): <atoti.hierarchy.Hierarchy object at 0x124c4a080>}"
      ]
     },
     "execution_count": 16,
     "metadata": {
      "application/json": {
       "expanded": true,
       "root": "Dimensions"
      }
     },
     "output_type": "execute_result"
    }
   ],
   "source": [
    "hierarchies"
   ]
  },
  {
   "cell_type": "code",
   "execution_count": null,
   "id": "59984c03-8a6c-4711-986c-1098f0e361f8",
   "metadata": {},
   "outputs": [],
   "source": [
    "# In Shops dimension table, we can group City, State or Region and Country into a Geography hierarchy:\n",
    "\n",
    "# option 1:\n",
    "# hierarchies[\"Geography\"] = [\n",
    "#     shops_table[\"Country\"],\n",
    "#     shops_table[\"State or region\"],\n",
    "#     shops_table[\"City\"],\n",
    "# ]\n",
    "\n",
    "# option 2:\n",
    "hierarchies[\"Geography\"] = [levels[\"Country\"], levels[\"State or region\"], levels[\"City\"]]\n",
    "\n",
    "# Your task: Do the above two options have the same results?"
   ]
  },
  {
   "cell_type": "code",
   "execution_count": null,
   "id": "8b1d52c4-a5cd-485b-8b78-c13585d96620",
   "metadata": {},
   "outputs": [],
   "source": [
    "del hierarchies[\"Country\"]\n",
    "del hierarchies[\"State or region\"]\n",
    "del hierarchies[\"City\"]"
   ]
  },
  {
   "cell_type": "code",
   "execution_count": null,
   "id": "9546846f-39e6-4ba4-b98d-0e62bfe8bdbc",
   "metadata": {},
   "outputs": [
    {
     "data": {
      "application/json": {
       "Products": {
        "Brand": [
         "Brand"
        ],
        "Color": [
         "Color"
        ],
        "Product": [
         "Category",
         "Sub category",
         "Product"
        ],
        "Size": [
         "Size"
        ]
       },
       "Sales": {
        "Date": [
         "Date"
        ],
        "Product": [
         "Product"
        ],
        "Sale ID": [
         "Sale ID"
        ],
        "Shop": [
         "Shop"
        ]
       },
       "Shops": {
        "Geography": [
         "Country",
         "State or region",
         "City"
        ],
        "Shop size": [
         "Shop size"
        ]
       }
      },
      "text/html": [
       "<ul>\n",
       "<li>Dimensions\n",
       "  <ul>\n",
       "  <li>Products\n",
       "    <ul>\n",
       "    <li>Brand\n",
       "      <ol>\n",
       "      <li>Brand</li>\n",
       "      </ol>    </li>\n",
       "    <li>Color\n",
       "      <ol>\n",
       "      <li>Color</li>\n",
       "      </ol>    </li>\n",
       "    <li>Product\n",
       "      <ol>\n",
       "      <li>Category</li>\n",
       "      <li>Sub category</li>\n",
       "      <li>Product</li>\n",
       "      </ol>    </li>\n",
       "    <li>Size\n",
       "      <ol>\n",
       "      <li>Size</li>\n",
       "      </ol>    </li>\n",
       "    </ul>\n",
       "  </li>\n",
       "  <li>Sales\n",
       "    <ul>\n",
       "    <li>Date\n",
       "      <ol>\n",
       "      <li>Date</li>\n",
       "      </ol>    </li>\n",
       "    <li>Product\n",
       "      <ol>\n",
       "      <li>Product</li>\n",
       "      </ol>    </li>\n",
       "    <li>Sale ID\n",
       "      <ol>\n",
       "      <li>Sale ID</li>\n",
       "      </ol>    </li>\n",
       "    <li>Shop\n",
       "      <ol>\n",
       "      <li>Shop</li>\n",
       "      </ol>    </li>\n",
       "    </ul>\n",
       "  </li>\n",
       "  <li>Shops\n",
       "    <ul>\n",
       "    <li>Geography\n",
       "      <ol>\n",
       "      <li>Country</li>\n",
       "      <li>State or region</li>\n",
       "      <li>City</li>\n",
       "      </ol>    </li>\n",
       "    <li>Shop size\n",
       "      <ol>\n",
       "      <li>Shop size</li>\n",
       "      </ol>    </li>\n",
       "    </ul>\n",
       "  </li>\n",
       "  </ul>\n",
       "</li>\n",
       "</ul>\n"
      ],
      "text/plain": [
       "{('Products', 'Brand'): <atoti.hierarchy.Hierarchy object at 0x124c4b100>, ('Sales', 'Sale ID'): <atoti.hierarchy.Hierarchy object at 0x124c4a8f0>, ('Shops', 'Shop size'): <atoti.hierarchy.Hierarchy object at 0x124c4b670>, ('Sales', 'Product'): <atoti.hierarchy.Hierarchy object at 0x124c4bb20>, ('Products', 'Size'): <atoti.hierarchy.Hierarchy object at 0x124c4b610>, ('Sales', 'Date'): <atoti.hierarchy.Hierarchy object at 0x124c485e0>, ('Products', 'Product'): <atoti.hierarchy.Hierarchy object at 0x124c4b370>, ('Products', 'Color'): <atoti.hierarchy.Hierarchy object at 0x124c4b310>, ('Sales', 'Shop'): <atoti.hierarchy.Hierarchy object at 0x124c48880>, ('Shops', 'Geography'): <atoti.hierarchy.Hierarchy object at 0x124c49510>}"
      ]
     },
     "execution_count": 19,
     "metadata": {
      "application/json": {
       "expanded": true,
       "root": "Dimensions"
      }
     },
     "output_type": "execute_result"
    }
   ],
   "source": [
    "hierarchies"
   ]
  },
  {
   "cell_type": "markdown",
   "id": "351831bb-f68a-4bee-844b-eac4d3fe82b8",
   "metadata": {},
   "source": [
    "## After cleaning all hierarchies, we can query our data warehouse. Think about the starnet!"
   ]
  },
  {
   "cell_type": "code",
   "execution_count": null,
   "id": "dea44629-576f-4ad0-9d42-63dd2ba8bab2",
   "metadata": {},
   "outputs": [
    {
     "data": {
      "text/html": [
       "<div>\n",
       "<style scoped>\n",
       "    .dataframe tbody tr th:only-of-type {\n",
       "        vertical-align: middle;\n",
       "    }\n",
       "\n",
       "    .dataframe tbody tr th {\n",
       "        vertical-align: top;\n",
       "    }\n",
       "\n",
       "    .dataframe thead th {\n",
       "        text-align: right;\n",
       "    }\n",
       "</style>\n",
       "<table border=\"1\" class=\"dataframe\">\n",
       "  <thead>\n",
       "    <tr style=\"text-align: right;\">\n",
       "      <th></th>\n",
       "      <th>Quantity.SUM</th>\n",
       "    </tr>\n",
       "  </thead>\n",
       "  <tbody>\n",
       "    <tr>\n",
       "      <th>0</th>\n",
       "      <td>8,077.00</td>\n",
       "    </tr>\n",
       "  </tbody>\n",
       "</table>\n",
       "</div>"
      ],
      "text/plain": [
       "  Quantity.SUM\n",
       "0     8,077.00"
      ]
     },
     "execution_count": 20,
     "metadata": {},
     "output_type": "execute_result"
    }
   ],
   "source": [
    "# query 1 (roll-up to ALL): what is the sold quantities over the whole dataset?\n",
    "cube.query(measures[\"Quantity.SUM\"])"
   ]
  },
  {
   "cell_type": "code",
   "execution_count": null,
   "id": "abcd2d11-121b-4641-b8b1-04ff36ded5ca",
   "metadata": {},
   "outputs": [
    {
     "data": {
      "application/json": {
       "Brand (Products/Brand/Brand)": {
        "dimension": "Products",
        "hierarchy": "Brand",
        "order": "NaturalOrder",
        "type": "String"
       },
       "Category (Products/Product/Category)": {
        "dimension": "Products",
        "hierarchy": "Product",
        "order": "NaturalOrder",
        "type": "String"
       },
       "City (Shops/Geography/City)": {
        "dimension": "Shops",
        "hierarchy": "Geography",
        "order": "NaturalOrder",
        "type": "String"
       },
       "Color (Products/Color/Color)": {
        "dimension": "Products",
        "hierarchy": "Color",
        "order": "NaturalOrder",
        "type": "String"
       },
       "Country (Shops/Geography/Country)": {
        "dimension": "Shops",
        "hierarchy": "Geography",
        "order": "NaturalOrder",
        "type": "String"
       },
       "Date (Sales/Date/Date)": {
        "dimension": "Sales",
        "hierarchy": "Date",
        "order": "NaturalOrder",
        "type": "LocalDate"
       },
       "Product (Products/Product/Product)": {
        "dimension": "Products",
        "hierarchy": "Product",
        "order": "NaturalOrder",
        "type": "String"
       },
       "Product (Sales/Product/Product)": {
        "dimension": "Sales",
        "hierarchy": "Product",
        "order": "NaturalOrder",
        "type": "String"
       },
       "Sale ID (Sales/Sale ID/Sale ID)": {
        "dimension": "Sales",
        "hierarchy": "Sale ID",
        "order": "NaturalOrder",
        "type": "String"
       },
       "Shop (Sales/Shop/Shop)": {
        "dimension": "Sales",
        "hierarchy": "Shop",
        "order": "NaturalOrder",
        "type": "String"
       },
       "Shop size (Shops/Shop size/Shop size)": {
        "dimension": "Shops",
        "hierarchy": "Shop size",
        "order": "NaturalOrder",
        "type": "String"
       },
       "Size (Products/Size/Size)": {
        "dimension": "Products",
        "hierarchy": "Size",
        "order": "NaturalOrder",
        "type": "String"
       },
       "State or region (Shops/Geography/State or region)": {
        "dimension": "Shops",
        "hierarchy": "Geography",
        "order": "NaturalOrder",
        "type": "String"
       },
       "Sub category (Products/Product/Sub category)": {
        "dimension": "Products",
        "hierarchy": "Product",
        "order": "NaturalOrder",
        "type": "String"
       }
      },
      "text/html": [
       "<ul>\n",
       "<li>Levels\n",
       "  <ul>\n",
       "  <li>Brand (Products/Brand/Brand)\n",
       "    <ul>\n",
       "    <li>dimension: Products</li>\n",
       "    <li>hierarchy: Brand</li>\n",
       "    <li>type: String</li>\n",
       "    <li>order: NaturalOrder</li>\n",
       "    </ul>\n",
       "  </li>\n",
       "  <li>Category (Products/Product/Category)\n",
       "    <ul>\n",
       "    <li>dimension: Products</li>\n",
       "    <li>hierarchy: Product</li>\n",
       "    <li>type: String</li>\n",
       "    <li>order: NaturalOrder</li>\n",
       "    </ul>\n",
       "  </li>\n",
       "  <li>City (Shops/Geography/City)\n",
       "    <ul>\n",
       "    <li>dimension: Shops</li>\n",
       "    <li>hierarchy: Geography</li>\n",
       "    <li>type: String</li>\n",
       "    <li>order: NaturalOrder</li>\n",
       "    </ul>\n",
       "  </li>\n",
       "  <li>Color (Products/Color/Color)\n",
       "    <ul>\n",
       "    <li>dimension: Products</li>\n",
       "    <li>hierarchy: Color</li>\n",
       "    <li>type: String</li>\n",
       "    <li>order: NaturalOrder</li>\n",
       "    </ul>\n",
       "  </li>\n",
       "  <li>Country (Shops/Geography/Country)\n",
       "    <ul>\n",
       "    <li>dimension: Shops</li>\n",
       "    <li>hierarchy: Geography</li>\n",
       "    <li>type: String</li>\n",
       "    <li>order: NaturalOrder</li>\n",
       "    </ul>\n",
       "  </li>\n",
       "  <li>Date (Sales/Date/Date)\n",
       "    <ul>\n",
       "    <li>dimension: Sales</li>\n",
       "    <li>hierarchy: Date</li>\n",
       "    <li>type: LocalDate</li>\n",
       "    <li>order: NaturalOrder</li>\n",
       "    </ul>\n",
       "  </li>\n",
       "  <li>Product (Products/Product/Product)\n",
       "    <ul>\n",
       "    <li>dimension: Products</li>\n",
       "    <li>hierarchy: Product</li>\n",
       "    <li>type: String</li>\n",
       "    <li>order: NaturalOrder</li>\n",
       "    </ul>\n",
       "  </li>\n",
       "  <li>Product (Sales/Product/Product)\n",
       "    <ul>\n",
       "    <li>dimension: Sales</li>\n",
       "    <li>hierarchy: Product</li>\n",
       "    <li>type: String</li>\n",
       "    <li>order: NaturalOrder</li>\n",
       "    </ul>\n",
       "  </li>\n",
       "  <li>Sale ID (Sales/Sale ID/Sale ID)\n",
       "    <ul>\n",
       "    <li>dimension: Sales</li>\n",
       "    <li>hierarchy: Sale ID</li>\n",
       "    <li>type: String</li>\n",
       "    <li>order: NaturalOrder</li>\n",
       "    </ul>\n",
       "  </li>\n",
       "  <li>Shop (Sales/Shop/Shop)\n",
       "    <ul>\n",
       "    <li>dimension: Sales</li>\n",
       "    <li>hierarchy: Shop</li>\n",
       "    <li>type: String</li>\n",
       "    <li>order: NaturalOrder</li>\n",
       "    </ul>\n",
       "  </li>\n",
       "  <li>Shop size (Shops/Shop size/Shop size)\n",
       "    <ul>\n",
       "    <li>dimension: Shops</li>\n",
       "    <li>hierarchy: Shop size</li>\n",
       "    <li>type: String</li>\n",
       "    <li>order: NaturalOrder</li>\n",
       "    </ul>\n",
       "  </li>\n",
       "  <li>Size (Products/Size/Size)\n",
       "    <ul>\n",
       "    <li>dimension: Products</li>\n",
       "    <li>hierarchy: Size</li>\n",
       "    <li>type: String</li>\n",
       "    <li>order: NaturalOrder</li>\n",
       "    </ul>\n",
       "  </li>\n",
       "  <li>State or region (Shops/Geography/State or region)\n",
       "    <ul>\n",
       "    <li>dimension: Shops</li>\n",
       "    <li>hierarchy: Geography</li>\n",
       "    <li>type: String</li>\n",
       "    <li>order: NaturalOrder</li>\n",
       "    </ul>\n",
       "  </li>\n",
       "  <li>Sub category (Products/Product/Sub category)\n",
       "    <ul>\n",
       "    <li>dimension: Products</li>\n",
       "    <li>hierarchy: Product</li>\n",
       "    <li>type: String</li>\n",
       "    <li>order: NaturalOrder</li>\n",
       "    </ul>\n",
       "  </li>\n",
       "  </ul>\n",
       "</li>\n",
       "</ul>\n"
      ],
      "text/plain": [
       "<atoti.levels.Levels at 0x124ab41f0>"
      ]
     },
     "execution_count": 21,
     "metadata": {
      "application/json": {
       "expanded": true,
       "root": "Levels"
      }
     },
     "output_type": "execute_result"
    }
   ],
   "source": [
    "levels"
   ]
  },
  {
   "cell_type": "code",
   "execution_count": null,
   "id": "4be6162e-fee3-41bc-b747-74a8cbcaadbd",
   "metadata": {},
   "outputs": [
    {
     "data": {
      "text/html": [
       "<div>\n",
       "<style scoped>\n",
       "    .dataframe tbody tr th:only-of-type {\n",
       "        vertical-align: middle;\n",
       "    }\n",
       "\n",
       "    .dataframe tbody tr th {\n",
       "        vertical-align: top;\n",
       "    }\n",
       "\n",
       "    .dataframe thead th {\n",
       "        text-align: right;\n",
       "    }\n",
       "</style>\n",
       "<table border=\"1\" class=\"dataframe\">\n",
       "  <thead>\n",
       "    <tr style=\"text-align: right;\">\n",
       "      <th></th>\n",
       "      <th>Quantity.SUM</th>\n",
       "    </tr>\n",
       "    <tr>\n",
       "      <th>Shop</th>\n",
       "      <th></th>\n",
       "    </tr>\n",
       "  </thead>\n",
       "  <tbody>\n",
       "    <tr>\n",
       "      <th>shop_0</th>\n",
       "      <td>202.00</td>\n",
       "    </tr>\n",
       "    <tr>\n",
       "      <th>shop_1</th>\n",
       "      <td>202.00</td>\n",
       "    </tr>\n",
       "    <tr>\n",
       "      <th>shop_10</th>\n",
       "      <td>203.00</td>\n",
       "    </tr>\n",
       "    <tr>\n",
       "      <th>shop_11</th>\n",
       "      <td>203.00</td>\n",
       "    </tr>\n",
       "    <tr>\n",
       "      <th>shop_12</th>\n",
       "      <td>201.00</td>\n",
       "    </tr>\n",
       "    <tr>\n",
       "      <th>shop_13</th>\n",
       "      <td>202.00</td>\n",
       "    </tr>\n",
       "    <tr>\n",
       "      <th>shop_14</th>\n",
       "      <td>202.00</td>\n",
       "    </tr>\n",
       "    <tr>\n",
       "      <th>shop_15</th>\n",
       "      <td>202.00</td>\n",
       "    </tr>\n",
       "    <tr>\n",
       "      <th>shop_16</th>\n",
       "      <td>201.00</td>\n",
       "    </tr>\n",
       "    <tr>\n",
       "      <th>shop_17</th>\n",
       "      <td>204.00</td>\n",
       "    </tr>\n",
       "    <tr>\n",
       "      <th>shop_18</th>\n",
       "      <td>202.00</td>\n",
       "    </tr>\n",
       "    <tr>\n",
       "      <th>shop_19</th>\n",
       "      <td>202.00</td>\n",
       "    </tr>\n",
       "    <tr>\n",
       "      <th>shop_2</th>\n",
       "      <td>202.00</td>\n",
       "    </tr>\n",
       "    <tr>\n",
       "      <th>shop_20</th>\n",
       "      <td>201.00</td>\n",
       "    </tr>\n",
       "    <tr>\n",
       "      <th>shop_21</th>\n",
       "      <td>201.00</td>\n",
       "    </tr>\n",
       "    <tr>\n",
       "      <th>shop_22</th>\n",
       "      <td>201.00</td>\n",
       "    </tr>\n",
       "    <tr>\n",
       "      <th>shop_23</th>\n",
       "      <td>203.00</td>\n",
       "    </tr>\n",
       "    <tr>\n",
       "      <th>shop_24</th>\n",
       "      <td>203.00</td>\n",
       "    </tr>\n",
       "    <tr>\n",
       "      <th>shop_25</th>\n",
       "      <td>201.00</td>\n",
       "    </tr>\n",
       "    <tr>\n",
       "      <th>shop_26</th>\n",
       "      <td>202.00</td>\n",
       "    </tr>\n",
       "    <tr>\n",
       "      <th>shop_27</th>\n",
       "      <td>202.00</td>\n",
       "    </tr>\n",
       "    <tr>\n",
       "      <th>shop_28</th>\n",
       "      <td>202.00</td>\n",
       "    </tr>\n",
       "    <tr>\n",
       "      <th>shop_29</th>\n",
       "      <td>201.00</td>\n",
       "    </tr>\n",
       "    <tr>\n",
       "      <th>shop_3</th>\n",
       "      <td>201.00</td>\n",
       "    </tr>\n",
       "    <tr>\n",
       "      <th>shop_30</th>\n",
       "      <td>204.00</td>\n",
       "    </tr>\n",
       "    <tr>\n",
       "      <th>shop_31</th>\n",
       "      <td>202.00</td>\n",
       "    </tr>\n",
       "    <tr>\n",
       "      <th>shop_32</th>\n",
       "      <td>202.00</td>\n",
       "    </tr>\n",
       "    <tr>\n",
       "      <th>shop_33</th>\n",
       "      <td>201.00</td>\n",
       "    </tr>\n",
       "    <tr>\n",
       "      <th>shop_34</th>\n",
       "      <td>201.00</td>\n",
       "    </tr>\n",
       "    <tr>\n",
       "      <th>shop_35</th>\n",
       "      <td>201.00</td>\n",
       "    </tr>\n",
       "    <tr>\n",
       "      <th>shop_36</th>\n",
       "      <td>203.00</td>\n",
       "    </tr>\n",
       "    <tr>\n",
       "      <th>shop_37</th>\n",
       "      <td>203.00</td>\n",
       "    </tr>\n",
       "    <tr>\n",
       "      <th>shop_38</th>\n",
       "      <td>201.00</td>\n",
       "    </tr>\n",
       "    <tr>\n",
       "      <th>shop_39</th>\n",
       "      <td>202.00</td>\n",
       "    </tr>\n",
       "    <tr>\n",
       "      <th>shop_4</th>\n",
       "      <td>204.00</td>\n",
       "    </tr>\n",
       "    <tr>\n",
       "      <th>shop_5</th>\n",
       "      <td>202.00</td>\n",
       "    </tr>\n",
       "    <tr>\n",
       "      <th>shop_6</th>\n",
       "      <td>202.00</td>\n",
       "    </tr>\n",
       "    <tr>\n",
       "      <th>shop_7</th>\n",
       "      <td>201.00</td>\n",
       "    </tr>\n",
       "    <tr>\n",
       "      <th>shop_8</th>\n",
       "      <td>201.00</td>\n",
       "    </tr>\n",
       "    <tr>\n",
       "      <th>shop_9</th>\n",
       "      <td>201.00</td>\n",
       "    </tr>\n",
       "  </tbody>\n",
       "</table>\n",
       "</div>"
      ],
      "text/plain": [
       "        Quantity.SUM\n",
       "Shop                \n",
       "shop_0        202.00\n",
       "shop_1        202.00\n",
       "shop_10       203.00\n",
       "shop_11       203.00\n",
       "shop_12       201.00\n",
       "shop_13       202.00\n",
       "shop_14       202.00\n",
       "shop_15       202.00\n",
       "shop_16       201.00\n",
       "shop_17       204.00\n",
       "shop_18       202.00\n",
       "shop_19       202.00\n",
       "shop_2        202.00\n",
       "shop_20       201.00\n",
       "shop_21       201.00\n",
       "shop_22       201.00\n",
       "shop_23       203.00\n",
       "shop_24       203.00\n",
       "shop_25       201.00\n",
       "shop_26       202.00\n",
       "shop_27       202.00\n",
       "shop_28       202.00\n",
       "shop_29       201.00\n",
       "shop_3        201.00\n",
       "shop_30       204.00\n",
       "shop_31       202.00\n",
       "shop_32       202.00\n",
       "shop_33       201.00\n",
       "shop_34       201.00\n",
       "shop_35       201.00\n",
       "shop_36       203.00\n",
       "shop_37       203.00\n",
       "shop_38       201.00\n",
       "shop_39       202.00\n",
       "shop_4        204.00\n",
       "shop_5        202.00\n",
       "shop_6        202.00\n",
       "shop_7        201.00\n",
       "shop_8        201.00\n",
       "shop_9        201.00"
      ]
     },
     "execution_count": 22,
     "metadata": {},
     "output_type": "execute_result"
    }
   ],
   "source": [
    "# query 2 (dice): what is the sold quantities for each shop?\n",
    "cube.query(measures[\"Quantity.SUM\"], levels=[levels[\"Shop\"]])\n",
    "\n",
    "# Your task: Add \"Shop\" to the Geography hierarchy and observe the outcome.\n",
    "# Hint: If errors occur in the query after adding \"Shop\" to the Geography hierarchy, check for duplicate \"Shop\" levels.\n",
    "# If there are levels with the same name but different parents, specify the parent, e.g., cube.query(measures[\"Quantity.SUM\"], levels=[levels[('Shops', 'Geography', 'Shop')]])"
   ]
  },
  {
   "cell_type": "code",
   "execution_count": null,
   "id": "fc50a041-de57-4c65-be8b-77c54efbca43",
   "metadata": {},
   "outputs": [
    {
     "data": {
      "text/html": [
       "<div>\n",
       "<style scoped>\n",
       "    .dataframe tbody tr th:only-of-type {\n",
       "        vertical-align: middle;\n",
       "    }\n",
       "\n",
       "    .dataframe tbody tr th {\n",
       "        vertical-align: top;\n",
       "    }\n",
       "\n",
       "    .dataframe thead th {\n",
       "        text-align: right;\n",
       "    }\n",
       "</style>\n",
       "<table border=\"1\" class=\"dataframe\">\n",
       "  <thead>\n",
       "    <tr style=\"text-align: right;\">\n",
       "      <th></th>\n",
       "      <th>Quantity.SUM</th>\n",
       "    </tr>\n",
       "  </thead>\n",
       "  <tbody>\n",
       "    <tr>\n",
       "      <th>0</th>\n",
       "      <td>203.00</td>\n",
       "    </tr>\n",
       "  </tbody>\n",
       "</table>\n",
       "</div>"
      ],
      "text/plain": [
       "  Quantity.SUM\n",
       "0       203.00"
      ]
     },
     "execution_count": 23,
     "metadata": {},
     "output_type": "execute_result"
    }
   ],
   "source": [
    "# query 3 (slice): what is the sold quantities for shop_36?\n",
    "cube.query(\n",
    "    measures[\"Quantity.SUM\"],\n",
    "    filter=levels[\"Shop\"] == \"shop_36\"\n",
    ")\n",
    "\n",
    "# Your task: after adding \"Shop\" to the Geography hierarchy, you need to specify the parent in filter. \n",
    "# e.g. filter=levels[('Sales', 'Shop', 'Shop')]== \"shop_36\""
   ]
  },
  {
   "cell_type": "code",
   "execution_count": null,
   "id": "afd53158-f2fd-4256-bf10-5842f595cfe2",
   "metadata": {},
   "outputs": [
    {
     "data": {
      "text/html": [
       "<div>\n",
       "<style scoped>\n",
       "    .dataframe tbody tr th:only-of-type {\n",
       "        vertical-align: middle;\n",
       "    }\n",
       "\n",
       "    .dataframe tbody tr th {\n",
       "        vertical-align: top;\n",
       "    }\n",
       "\n",
       "    .dataframe thead th {\n",
       "        text-align: right;\n",
       "    }\n",
       "</style>\n",
       "<table border=\"1\" class=\"dataframe\">\n",
       "  <thead>\n",
       "    <tr style=\"text-align: right;\">\n",
       "      <th></th>\n",
       "      <th></th>\n",
       "      <th>Quantity.SUM</th>\n",
       "    </tr>\n",
       "    <tr>\n",
       "      <th>Date</th>\n",
       "      <th>Product</th>\n",
       "      <th></th>\n",
       "    </tr>\n",
       "  </thead>\n",
       "  <tbody>\n",
       "    <tr>\n",
       "      <th rowspan=\"5\" valign=\"top\">2021-01-06</th>\n",
       "      <th>BED_24</th>\n",
       "      <td>8.00</td>\n",
       "    </tr>\n",
       "    <tr>\n",
       "      <th>BED_25</th>\n",
       "      <td>4.00</td>\n",
       "    </tr>\n",
       "    <tr>\n",
       "      <th>BED_26</th>\n",
       "      <td>6.00</td>\n",
       "    </tr>\n",
       "    <tr>\n",
       "      <th>BED_27</th>\n",
       "      <td>4.00</td>\n",
       "    </tr>\n",
       "    <tr>\n",
       "      <th>BED_3</th>\n",
       "      <td>2.00</td>\n",
       "    </tr>\n",
       "    <tr>\n",
       "      <th>...</th>\n",
       "      <th>...</th>\n",
       "      <td>...</td>\n",
       "    </tr>\n",
       "    <tr>\n",
       "      <th rowspan=\"5\" valign=\"top\">2021-02-04</th>\n",
       "      <th>TSH_52</th>\n",
       "      <td>6.00</td>\n",
       "    </tr>\n",
       "    <tr>\n",
       "      <th>TSH_53</th>\n",
       "      <td>4.00</td>\n",
       "    </tr>\n",
       "    <tr>\n",
       "      <th>TSH_7</th>\n",
       "      <td>3.00</td>\n",
       "    </tr>\n",
       "    <tr>\n",
       "      <th>TSH_8</th>\n",
       "      <td>5.00</td>\n",
       "    </tr>\n",
       "    <tr>\n",
       "      <th>TSH_9</th>\n",
       "      <td>3.00</td>\n",
       "    </tr>\n",
       "  </tbody>\n",
       "</table>\n",
       "<p>1830 rows × 1 columns</p>\n",
       "</div>"
      ],
      "text/plain": [
       "                   Quantity.SUM\n",
       "Date       Product             \n",
       "2021-01-06 BED_24          8.00\n",
       "           BED_25          4.00\n",
       "           BED_26          6.00\n",
       "           BED_27          4.00\n",
       "           BED_3           2.00\n",
       "...                         ...\n",
       "2021-02-04 TSH_52          6.00\n",
       "           TSH_53          4.00\n",
       "           TSH_7           3.00\n",
       "           TSH_8           5.00\n",
       "           TSH_9           3.00\n",
       "\n",
       "[1830 rows x 1 columns]"
      ]
     },
     "execution_count": 24,
     "metadata": {},
     "output_type": "execute_result"
    }
   ],
   "source": [
    "# query 4: What is the sold quantities sold by date and product?\n",
    "cube.query(measures[\"Quantity.SUM\"], levels=[levels[\"Date\"], levels[('Sales', 'Product', 'Product')]])\n",
    "\n",
    "# Your task: run the following code and explain why it does not work. Hint: check how many 'Product' in levels\n",
    "# cube.query(measures[\"Quantity.SUM\"], levels=[levels[\"Date\"], levels[\"Product\"]])"
   ]
  },
  {
   "cell_type": "code",
   "execution_count": null,
   "id": "4e765283-4340-432b-b01f-bb29553447ae",
   "metadata": {},
   "outputs": [
    {
     "data": {
      "text/html": [
       "<div>\n",
       "<style scoped>\n",
       "    .dataframe tbody tr th:only-of-type {\n",
       "        vertical-align: middle;\n",
       "    }\n",
       "\n",
       "    .dataframe tbody tr th {\n",
       "        vertical-align: top;\n",
       "    }\n",
       "\n",
       "    .dataframe thead th {\n",
       "        text-align: right;\n",
       "    }\n",
       "</style>\n",
       "<table border=\"1\" class=\"dataframe\">\n",
       "  <thead>\n",
       "    <tr style=\"text-align: right;\">\n",
       "      <th></th>\n",
       "      <th></th>\n",
       "      <th></th>\n",
       "      <th>Quantity.SUM</th>\n",
       "    </tr>\n",
       "    <tr>\n",
       "      <th>Date</th>\n",
       "      <th>Category</th>\n",
       "      <th>Sub category</th>\n",
       "      <th></th>\n",
       "    </tr>\n",
       "  </thead>\n",
       "  <tbody>\n",
       "    <tr>\n",
       "      <th rowspan=\"5\" valign=\"top\">2021-01-06</th>\n",
       "      <th rowspan=\"3\" valign=\"top\">Cloth</th>\n",
       "      <th>Hoodie</th>\n",
       "      <td>37.00</td>\n",
       "    </tr>\n",
       "    <tr>\n",
       "      <th>Shoes</th>\n",
       "      <td>71.00</td>\n",
       "    </tr>\n",
       "    <tr>\n",
       "      <th>T-shirt</th>\n",
       "      <td>66.00</td>\n",
       "    </tr>\n",
       "    <tr>\n",
       "      <th rowspan=\"2\" valign=\"top\">Furniture</th>\n",
       "      <th>Bed</th>\n",
       "      <td>53.00</td>\n",
       "    </tr>\n",
       "    <tr>\n",
       "      <th>Chair</th>\n",
       "      <td>15.00</td>\n",
       "    </tr>\n",
       "    <tr>\n",
       "      <th>...</th>\n",
       "      <th>...</th>\n",
       "      <th>...</th>\n",
       "      <td>...</td>\n",
       "    </tr>\n",
       "    <tr>\n",
       "      <th rowspan=\"5\" valign=\"top\">2021-02-04</th>\n",
       "      <th rowspan=\"2\" valign=\"top\">Cloth</th>\n",
       "      <th>Shoes</th>\n",
       "      <td>76.00</td>\n",
       "    </tr>\n",
       "    <tr>\n",
       "      <th>T-shirt</th>\n",
       "      <td>69.00</td>\n",
       "    </tr>\n",
       "    <tr>\n",
       "      <th rowspan=\"3\" valign=\"top\">Furniture</th>\n",
       "      <th>Bed</th>\n",
       "      <td>49.00</td>\n",
       "    </tr>\n",
       "    <tr>\n",
       "      <th>Chair</th>\n",
       "      <td>13.00</td>\n",
       "    </tr>\n",
       "    <tr>\n",
       "      <th>Table</th>\n",
       "      <td>26.00</td>\n",
       "    </tr>\n",
       "  </tbody>\n",
       "</table>\n",
       "<p>180 rows × 1 columns</p>\n",
       "</div>"
      ],
      "text/plain": [
       "                                  Quantity.SUM\n",
       "Date       Category  Sub category             \n",
       "2021-01-06 Cloth     Hoodie              37.00\n",
       "                     Shoes               71.00\n",
       "                     T-shirt             66.00\n",
       "           Furniture Bed                 53.00\n",
       "                     Chair               15.00\n",
       "...                                        ...\n",
       "2021-02-04 Cloth     Shoes               76.00\n",
       "                     T-shirt             69.00\n",
       "           Furniture Bed                 49.00\n",
       "                     Chair               13.00\n",
       "                     Table               26.00\n",
       "\n",
       "[180 rows x 1 columns]"
      ]
     },
     "execution_count": 25,
     "metadata": {},
     "output_type": "execute_result"
    }
   ],
   "source": [
    "cube.query(measures[\"Quantity.SUM\"], levels=[levels[\"Date\"], levels[('Products', 'Product', 'Sub category')]])"
   ]
  },
  {
   "cell_type": "code",
   "execution_count": null,
   "id": "5754b10c-526d-4778-8e34-eb40bcd074b5",
   "metadata": {},
   "outputs": [
    {
     "data": {
      "text/html": [
       "<div>\n",
       "<style scoped>\n",
       "    .dataframe tbody tr th:only-of-type {\n",
       "        vertical-align: middle;\n",
       "    }\n",
       "\n",
       "    .dataframe tbody tr th {\n",
       "        vertical-align: top;\n",
       "    }\n",
       "\n",
       "    .dataframe thead th {\n",
       "        text-align: right;\n",
       "    }\n",
       "</style>\n",
       "<table border=\"1\" class=\"dataframe\">\n",
       "  <thead>\n",
       "    <tr style=\"text-align: right;\">\n",
       "      <th></th>\n",
       "      <th></th>\n",
       "      <th>Quantity.SUM</th>\n",
       "    </tr>\n",
       "    <tr>\n",
       "      <th>Date</th>\n",
       "      <th>Category</th>\n",
       "      <th></th>\n",
       "    </tr>\n",
       "  </thead>\n",
       "  <tbody>\n",
       "    <tr>\n",
       "      <th rowspan=\"2\" valign=\"top\">2021-01-06</th>\n",
       "      <th>Cloth</th>\n",
       "      <td>174.00</td>\n",
       "    </tr>\n",
       "    <tr>\n",
       "      <th>Furniture</th>\n",
       "      <td>94.00</td>\n",
       "    </tr>\n",
       "    <tr>\n",
       "      <th rowspan=\"2\" valign=\"top\">2021-01-07</th>\n",
       "      <th>Cloth</th>\n",
       "      <td>177.00</td>\n",
       "    </tr>\n",
       "    <tr>\n",
       "      <th>Furniture</th>\n",
       "      <td>89.00</td>\n",
       "    </tr>\n",
       "    <tr>\n",
       "      <th rowspan=\"2\" valign=\"top\">2021-01-08</th>\n",
       "      <th>Cloth</th>\n",
       "      <td>174.00</td>\n",
       "    </tr>\n",
       "    <tr>\n",
       "      <th>Furniture</th>\n",
       "      <td>94.00</td>\n",
       "    </tr>\n",
       "    <tr>\n",
       "      <th rowspan=\"2\" valign=\"top\">2021-01-09</th>\n",
       "      <th>Cloth</th>\n",
       "      <td>177.00</td>\n",
       "    </tr>\n",
       "    <tr>\n",
       "      <th>Furniture</th>\n",
       "      <td>93.00</td>\n",
       "    </tr>\n",
       "    <tr>\n",
       "      <th rowspan=\"2\" valign=\"top\">2021-01-10</th>\n",
       "      <th>Cloth</th>\n",
       "      <td>177.00</td>\n",
       "    </tr>\n",
       "    <tr>\n",
       "      <th>Furniture</th>\n",
       "      <td>91.00</td>\n",
       "    </tr>\n",
       "    <tr>\n",
       "      <th rowspan=\"2\" valign=\"top\">2021-01-11</th>\n",
       "      <th>Cloth</th>\n",
       "      <td>176.00</td>\n",
       "    </tr>\n",
       "    <tr>\n",
       "      <th>Furniture</th>\n",
       "      <td>93.00</td>\n",
       "    </tr>\n",
       "    <tr>\n",
       "      <th rowspan=\"2\" valign=\"top\">2021-01-12</th>\n",
       "      <th>Cloth</th>\n",
       "      <td>177.00</td>\n",
       "    </tr>\n",
       "    <tr>\n",
       "      <th>Furniture</th>\n",
       "      <td>88.00</td>\n",
       "    </tr>\n",
       "    <tr>\n",
       "      <th rowspan=\"2\" valign=\"top\">2021-01-13</th>\n",
       "      <th>Cloth</th>\n",
       "      <td>178.00</td>\n",
       "    </tr>\n",
       "    <tr>\n",
       "      <th>Furniture</th>\n",
       "      <td>92.00</td>\n",
       "    </tr>\n",
       "    <tr>\n",
       "      <th rowspan=\"2\" valign=\"top\">2021-01-14</th>\n",
       "      <th>Cloth</th>\n",
       "      <td>175.00</td>\n",
       "    </tr>\n",
       "    <tr>\n",
       "      <th>Furniture</th>\n",
       "      <td>93.00</td>\n",
       "    </tr>\n",
       "    <tr>\n",
       "      <th rowspan=\"2\" valign=\"top\">2021-01-15</th>\n",
       "      <th>Cloth</th>\n",
       "      <td>179.00</td>\n",
       "    </tr>\n",
       "    <tr>\n",
       "      <th>Furniture</th>\n",
       "      <td>91.00</td>\n",
       "    </tr>\n",
       "    <tr>\n",
       "      <th rowspan=\"2\" valign=\"top\">2021-01-16</th>\n",
       "      <th>Cloth</th>\n",
       "      <td>178.00</td>\n",
       "    </tr>\n",
       "    <tr>\n",
       "      <th>Furniture</th>\n",
       "      <td>89.00</td>\n",
       "    </tr>\n",
       "    <tr>\n",
       "      <th rowspan=\"2\" valign=\"top\">2021-01-17</th>\n",
       "      <th>Cloth</th>\n",
       "      <td>178.00</td>\n",
       "    </tr>\n",
       "    <tr>\n",
       "      <th>Furniture</th>\n",
       "      <td>93.00</td>\n",
       "    </tr>\n",
       "    <tr>\n",
       "      <th rowspan=\"2\" valign=\"top\">2021-01-18</th>\n",
       "      <th>Cloth</th>\n",
       "      <td>180.00</td>\n",
       "    </tr>\n",
       "    <tr>\n",
       "      <th>Furniture</th>\n",
       "      <td>91.00</td>\n",
       "    </tr>\n",
       "    <tr>\n",
       "      <th rowspan=\"2\" valign=\"top\">2021-01-19</th>\n",
       "      <th>Cloth</th>\n",
       "      <td>181.00</td>\n",
       "    </tr>\n",
       "    <tr>\n",
       "      <th>Furniture</th>\n",
       "      <td>90.00</td>\n",
       "    </tr>\n",
       "    <tr>\n",
       "      <th rowspan=\"2\" valign=\"top\">2021-01-20</th>\n",
       "      <th>Cloth</th>\n",
       "      <td>176.00</td>\n",
       "    </tr>\n",
       "    <tr>\n",
       "      <th>Furniture</th>\n",
       "      <td>91.00</td>\n",
       "    </tr>\n",
       "    <tr>\n",
       "      <th rowspan=\"2\" valign=\"top\">2021-01-21</th>\n",
       "      <th>Cloth</th>\n",
       "      <td>178.00</td>\n",
       "    </tr>\n",
       "    <tr>\n",
       "      <th>Furniture</th>\n",
       "      <td>92.00</td>\n",
       "    </tr>\n",
       "    <tr>\n",
       "      <th rowspan=\"2\" valign=\"top\">2021-01-22</th>\n",
       "      <th>Cloth</th>\n",
       "      <td>179.00</td>\n",
       "    </tr>\n",
       "    <tr>\n",
       "      <th>Furniture</th>\n",
       "      <td>92.00</td>\n",
       "    </tr>\n",
       "    <tr>\n",
       "      <th rowspan=\"2\" valign=\"top\">2021-01-23</th>\n",
       "      <th>Cloth</th>\n",
       "      <td>175.00</td>\n",
       "    </tr>\n",
       "    <tr>\n",
       "      <th>Furniture</th>\n",
       "      <td>94.00</td>\n",
       "    </tr>\n",
       "    <tr>\n",
       "      <th rowspan=\"2\" valign=\"top\">2021-01-24</th>\n",
       "      <th>Cloth</th>\n",
       "      <td>183.00</td>\n",
       "    </tr>\n",
       "    <tr>\n",
       "      <th>Furniture</th>\n",
       "      <td>87.00</td>\n",
       "    </tr>\n",
       "    <tr>\n",
       "      <th rowspan=\"2\" valign=\"top\">2021-01-25</th>\n",
       "      <th>Cloth</th>\n",
       "      <td>176.00</td>\n",
       "    </tr>\n",
       "    <tr>\n",
       "      <th>Furniture</th>\n",
       "      <td>93.00</td>\n",
       "    </tr>\n",
       "    <tr>\n",
       "      <th rowspan=\"2\" valign=\"top\">2021-01-26</th>\n",
       "      <th>Cloth</th>\n",
       "      <td>184.00</td>\n",
       "    </tr>\n",
       "    <tr>\n",
       "      <th>Furniture</th>\n",
       "      <td>87.00</td>\n",
       "    </tr>\n",
       "    <tr>\n",
       "      <th rowspan=\"2\" valign=\"top\">2021-01-27</th>\n",
       "      <th>Cloth</th>\n",
       "      <td>173.00</td>\n",
       "    </tr>\n",
       "    <tr>\n",
       "      <th>Furniture</th>\n",
       "      <td>96.00</td>\n",
       "    </tr>\n",
       "    <tr>\n",
       "      <th rowspan=\"2\" valign=\"top\">2021-01-28</th>\n",
       "      <th>Cloth</th>\n",
       "      <td>179.00</td>\n",
       "    </tr>\n",
       "    <tr>\n",
       "      <th>Furniture</th>\n",
       "      <td>92.00</td>\n",
       "    </tr>\n",
       "    <tr>\n",
       "      <th rowspan=\"2\" valign=\"top\">2021-01-29</th>\n",
       "      <th>Cloth</th>\n",
       "      <td>168.00</td>\n",
       "    </tr>\n",
       "    <tr>\n",
       "      <th>Furniture</th>\n",
       "      <td>99.00</td>\n",
       "    </tr>\n",
       "    <tr>\n",
       "      <th rowspan=\"2\" valign=\"top\">2021-01-30</th>\n",
       "      <th>Cloth</th>\n",
       "      <td>172.00</td>\n",
       "    </tr>\n",
       "    <tr>\n",
       "      <th>Furniture</th>\n",
       "      <td>99.00</td>\n",
       "    </tr>\n",
       "    <tr>\n",
       "      <th rowspan=\"2\" valign=\"top\">2021-01-31</th>\n",
       "      <th>Cloth</th>\n",
       "      <td>173.00</td>\n",
       "    </tr>\n",
       "    <tr>\n",
       "      <th>Furniture</th>\n",
       "      <td>98.00</td>\n",
       "    </tr>\n",
       "    <tr>\n",
       "      <th rowspan=\"2\" valign=\"top\">2021-02-01</th>\n",
       "      <th>Cloth</th>\n",
       "      <td>170.00</td>\n",
       "    </tr>\n",
       "    <tr>\n",
       "      <th>Furniture</th>\n",
       "      <td>101.00</td>\n",
       "    </tr>\n",
       "    <tr>\n",
       "      <th rowspan=\"2\" valign=\"top\">2021-02-02</th>\n",
       "      <th>Cloth</th>\n",
       "      <td>176.00</td>\n",
       "    </tr>\n",
       "    <tr>\n",
       "      <th>Furniture</th>\n",
       "      <td>91.00</td>\n",
       "    </tr>\n",
       "    <tr>\n",
       "      <th rowspan=\"2\" valign=\"top\">2021-02-03</th>\n",
       "      <th>Cloth</th>\n",
       "      <td>174.00</td>\n",
       "    </tr>\n",
       "    <tr>\n",
       "      <th>Furniture</th>\n",
       "      <td>96.00</td>\n",
       "    </tr>\n",
       "    <tr>\n",
       "      <th rowspan=\"2\" valign=\"top\">2021-02-04</th>\n",
       "      <th>Cloth</th>\n",
       "      <td>183.00</td>\n",
       "    </tr>\n",
       "    <tr>\n",
       "      <th>Furniture</th>\n",
       "      <td>88.00</td>\n",
       "    </tr>\n",
       "  </tbody>\n",
       "</table>\n",
       "</div>"
      ],
      "text/plain": [
       "                     Quantity.SUM\n",
       "Date       Category              \n",
       "2021-01-06 Cloth           174.00\n",
       "           Furniture        94.00\n",
       "2021-01-07 Cloth           177.00\n",
       "           Furniture        89.00\n",
       "2021-01-08 Cloth           174.00\n",
       "           Furniture        94.00\n",
       "2021-01-09 Cloth           177.00\n",
       "           Furniture        93.00\n",
       "2021-01-10 Cloth           177.00\n",
       "           Furniture        91.00\n",
       "2021-01-11 Cloth           176.00\n",
       "           Furniture        93.00\n",
       "2021-01-12 Cloth           177.00\n",
       "           Furniture        88.00\n",
       "2021-01-13 Cloth           178.00\n",
       "           Furniture        92.00\n",
       "2021-01-14 Cloth           175.00\n",
       "           Furniture        93.00\n",
       "2021-01-15 Cloth           179.00\n",
       "           Furniture        91.00\n",
       "2021-01-16 Cloth           178.00\n",
       "           Furniture        89.00\n",
       "2021-01-17 Cloth           178.00\n",
       "           Furniture        93.00\n",
       "2021-01-18 Cloth           180.00\n",
       "           Furniture        91.00\n",
       "2021-01-19 Cloth           181.00\n",
       "           Furniture        90.00\n",
       "2021-01-20 Cloth           176.00\n",
       "           Furniture        91.00\n",
       "2021-01-21 Cloth           178.00\n",
       "           Furniture        92.00\n",
       "2021-01-22 Cloth           179.00\n",
       "           Furniture        92.00\n",
       "2021-01-23 Cloth           175.00\n",
       "           Furniture        94.00\n",
       "2021-01-24 Cloth           183.00\n",
       "           Furniture        87.00\n",
       "2021-01-25 Cloth           176.00\n",
       "           Furniture        93.00\n",
       "2021-01-26 Cloth           184.00\n",
       "           Furniture        87.00\n",
       "2021-01-27 Cloth           173.00\n",
       "           Furniture        96.00\n",
       "2021-01-28 Cloth           179.00\n",
       "           Furniture        92.00\n",
       "2021-01-29 Cloth           168.00\n",
       "           Furniture        99.00\n",
       "2021-01-30 Cloth           172.00\n",
       "           Furniture        99.00\n",
       "2021-01-31 Cloth           173.00\n",
       "           Furniture        98.00\n",
       "2021-02-01 Cloth           170.00\n",
       "           Furniture       101.00\n",
       "2021-02-02 Cloth           176.00\n",
       "           Furniture        91.00\n",
       "2021-02-03 Cloth           174.00\n",
       "           Furniture        96.00\n",
       "2021-02-04 Cloth           183.00\n",
       "           Furniture        88.00"
      ]
     },
     "execution_count": 26,
     "metadata": {},
     "output_type": "execute_result"
    }
   ],
   "source": [
    "# rollup\n",
    "cube.query(measures[\"Quantity.SUM\"], levels=[levels[\"Date\"], levels[('Products', 'Product', 'Category')]])"
   ]
  },
  {
   "cell_type": "code",
   "execution_count": null,
   "id": "a463a1c5-33fe-460c-ad30-76f7a4254964",
   "metadata": {},
   "outputs": [
    {
     "data": {
      "text/html": [
       "<div>\n",
       "<style scoped>\n",
       "    .dataframe tbody tr th:only-of-type {\n",
       "        vertical-align: middle;\n",
       "    }\n",
       "\n",
       "    .dataframe tbody tr th {\n",
       "        vertical-align: top;\n",
       "    }\n",
       "\n",
       "    .dataframe thead th {\n",
       "        text-align: right;\n",
       "    }\n",
       "</style>\n",
       "<table border=\"1\" class=\"dataframe\">\n",
       "  <thead>\n",
       "    <tr style=\"text-align: right;\">\n",
       "      <th></th>\n",
       "      <th></th>\n",
       "      <th></th>\n",
       "      <th></th>\n",
       "      <th>Quantity.SUM</th>\n",
       "    </tr>\n",
       "    <tr>\n",
       "      <th>Date</th>\n",
       "      <th>Category</th>\n",
       "      <th>Sub category</th>\n",
       "      <th>Product</th>\n",
       "      <th></th>\n",
       "    </tr>\n",
       "  </thead>\n",
       "  <tbody>\n",
       "    <tr>\n",
       "      <th rowspan=\"5\" valign=\"top\">2021-01-06</th>\n",
       "      <th rowspan=\"5\" valign=\"top\">Cloth</th>\n",
       "      <th rowspan=\"5\" valign=\"top\">Hoodie</th>\n",
       "      <th>HOO_12</th>\n",
       "      <td>4.00</td>\n",
       "    </tr>\n",
       "    <tr>\n",
       "      <th>HOO_13</th>\n",
       "      <td>6.00</td>\n",
       "    </tr>\n",
       "    <tr>\n",
       "      <th>HOO_14</th>\n",
       "      <td>4.00</td>\n",
       "    </tr>\n",
       "    <tr>\n",
       "      <th>HOO_33</th>\n",
       "      <td>5.00</td>\n",
       "    </tr>\n",
       "    <tr>\n",
       "      <th>HOO_34</th>\n",
       "      <td>2.00</td>\n",
       "    </tr>\n",
       "    <tr>\n",
       "      <th>...</th>\n",
       "      <th>...</th>\n",
       "      <th>...</th>\n",
       "      <th>...</th>\n",
       "      <td>...</td>\n",
       "    </tr>\n",
       "    <tr>\n",
       "      <th rowspan=\"5\" valign=\"top\">2021-02-04</th>\n",
       "      <th rowspan=\"5\" valign=\"top\">Furniture</th>\n",
       "      <th rowspan=\"5\" valign=\"top\">Table</th>\n",
       "      <th>TAB_1</th>\n",
       "      <td>3.00</td>\n",
       "    </tr>\n",
       "    <tr>\n",
       "      <th>TAB_21</th>\n",
       "      <td>6.00</td>\n",
       "    </tr>\n",
       "    <tr>\n",
       "      <th>TAB_22</th>\n",
       "      <td>3.00</td>\n",
       "    </tr>\n",
       "    <tr>\n",
       "      <th>TAB_42</th>\n",
       "      <td>4.00</td>\n",
       "    </tr>\n",
       "    <tr>\n",
       "      <th>TAB_43</th>\n",
       "      <td>6.00</td>\n",
       "    </tr>\n",
       "  </tbody>\n",
       "</table>\n",
       "<p>1830 rows × 1 columns</p>\n",
       "</div>"
      ],
      "text/plain": [
       "                                          Quantity.SUM\n",
       "Date       Category  Sub category Product             \n",
       "2021-01-06 Cloth     Hoodie       HOO_12          4.00\n",
       "                                  HOO_13          6.00\n",
       "                                  HOO_14          4.00\n",
       "                                  HOO_33          5.00\n",
       "                                  HOO_34          2.00\n",
       "...                                                ...\n",
       "2021-02-04 Furniture Table        TAB_1           3.00\n",
       "                                  TAB_21          6.00\n",
       "                                  TAB_22          3.00\n",
       "                                  TAB_42          4.00\n",
       "                                  TAB_43          6.00\n",
       "\n",
       "[1830 rows x 1 columns]"
      ]
     },
     "execution_count": 27,
     "metadata": {},
     "output_type": "execute_result"
    }
   ],
   "source": [
    "# drilldown\n",
    "cube.query(measures[\"Quantity.SUM\"], levels=[levels[\"Date\"], levels[('Products', 'Product', 'Product')]])"
   ]
  },
  {
   "cell_type": "code",
   "execution_count": null,
   "id": "c1702a7a-c08c-4369-8592-79cc9e65e3ba",
   "metadata": {},
   "outputs": [
    {
     "data": {
      "text/html": [
       "<div>\n",
       "<style scoped>\n",
       "    .dataframe tbody tr th:only-of-type {\n",
       "        vertical-align: middle;\n",
       "    }\n",
       "\n",
       "    .dataframe tbody tr th {\n",
       "        vertical-align: top;\n",
       "    }\n",
       "\n",
       "    .dataframe thead th {\n",
       "        text-align: right;\n",
       "    }\n",
       "</style>\n",
       "<table border=\"1\" class=\"dataframe\">\n",
       "  <thead>\n",
       "    <tr style=\"text-align: right;\">\n",
       "      <th></th>\n",
       "      <th></th>\n",
       "      <th>Quantity.SUM</th>\n",
       "    </tr>\n",
       "    <tr>\n",
       "      <th>Date</th>\n",
       "      <th>Product</th>\n",
       "      <th></th>\n",
       "    </tr>\n",
       "  </thead>\n",
       "  <tbody>\n",
       "    <tr>\n",
       "      <th rowspan=\"5\" valign=\"top\">2021-01-09</th>\n",
       "      <th>BED_25</th>\n",
       "      <td>1.00</td>\n",
       "    </tr>\n",
       "    <tr>\n",
       "      <th>BED_27</th>\n",
       "      <td>2.00</td>\n",
       "    </tr>\n",
       "    <tr>\n",
       "      <th>BED_3</th>\n",
       "      <td>1.00</td>\n",
       "    </tr>\n",
       "    <tr>\n",
       "      <th>BED_45</th>\n",
       "      <td>1.00</td>\n",
       "    </tr>\n",
       "    <tr>\n",
       "      <th>BED_46</th>\n",
       "      <td>1.00</td>\n",
       "    </tr>\n",
       "    <tr>\n",
       "      <th>...</th>\n",
       "      <th>...</th>\n",
       "      <td>...</td>\n",
       "    </tr>\n",
       "    <tr>\n",
       "      <th rowspan=\"5\" valign=\"top\">2021-01-29</th>\n",
       "      <th>TSH_32</th>\n",
       "      <td>1.00</td>\n",
       "    </tr>\n",
       "    <tr>\n",
       "      <th>TSH_49</th>\n",
       "      <td>3.00</td>\n",
       "    </tr>\n",
       "    <tr>\n",
       "      <th>TSH_51</th>\n",
       "      <td>1.00</td>\n",
       "    </tr>\n",
       "    <tr>\n",
       "      <th>TSH_53</th>\n",
       "      <td>4.00</td>\n",
       "    </tr>\n",
       "    <tr>\n",
       "      <th>TSH_8</th>\n",
       "      <td>1.00</td>\n",
       "    </tr>\n",
       "  </tbody>\n",
       "</table>\n",
       "<p>125 rows × 1 columns</p>\n",
       "</div>"
      ],
      "text/plain": [
       "                   Quantity.SUM\n",
       "Date       Product             \n",
       "2021-01-09 BED_25          1.00\n",
       "           BED_27          2.00\n",
       "           BED_3           1.00\n",
       "           BED_45          1.00\n",
       "           BED_46          1.00\n",
       "...                         ...\n",
       "2021-01-29 TSH_32          1.00\n",
       "           TSH_49          3.00\n",
       "           TSH_51          1.00\n",
       "           TSH_53          4.00\n",
       "           TSH_8           1.00\n",
       "\n",
       "[125 rows x 1 columns]"
      ]
     },
     "execution_count": 28,
     "metadata": {},
     "output_type": "execute_result"
    }
   ],
   "source": [
    "# query 5: What is the sold quantities sold by date and product for shop_36\n",
    "cube.query(\n",
    "    measures[\"Quantity.SUM\"],\n",
    "    levels=[levels[\"Date\"], levels[('Sales', 'Product', 'Product')]],\n",
    "    filter=levels[\"Shop\"] == \"shop_36\",\n",
    ")"
   ]
  },
  {
   "cell_type": "code",
   "execution_count": null,
   "id": "918c92fd-c970-4b60-ae27-6751720df63c",
   "metadata": {},
   "outputs": [
    {
     "data": {
      "application/vnd.atoti.link.v0+json": {
       "path": "",
       "sessionLocation": {
        "https": false,
        "port": 50772
       }
      },
      "text/markdown": [
       "http://localhost:50772\n",
       "\n",
       "_Note_: This is the session's local URL: it may not be reachable if Atoti is running on another machine."
      ],
      "text/plain": [
       "http://localhost:50772 (This is the session's local URL: it may not be reachable if Atoti is running on another machine.)"
      ]
     },
     "execution_count": 29,
     "metadata": {},
     "output_type": "execute_result"
    }
   ],
   "source": [
    "# query\n",
    "session.link"
   ]
  },
  {
   "cell_type": "code",
   "execution_count": null,
   "id": "4466ea76-5617-490e-8f49-5b083fe8c5a5",
   "metadata": {},
   "outputs": [],
   "source": []
  },
  {
   "cell_type": "code",
   "execution_count": null,
   "id": "3c82fedd-54d8-46ad-83c6-943863e5bc67",
   "metadata": {},
   "outputs": [],
   "source": []
  },
  {
   "cell_type": "code",
   "execution_count": null,
   "id": "4f2d07c8-83d8-4cab-8375-fe24ee5f845f",
   "metadata": {},
   "outputs": [],
   "source": []
  }
 ],
 "metadata": {
  "kernelspec": {
   "display_name": "Python 3 (ipykernel)",
   "language": "python",
   "name": "python3"
  },
  "language_info": {
   "codemirror_mode": {
    "name": "ipython",
    "version": 3
   },
   "file_extension": ".py",
   "mimetype": "text/x-python",
   "name": "python",
   "nbconvert_exporter": "python",
   "pygments_lexer": "ipython3",
   "version": "3.9.6"
  }
 },
 "nbformat": 4,
 "nbformat_minor": 5
}
